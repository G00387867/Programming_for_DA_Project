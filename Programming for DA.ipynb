{
 "cells": [
  {
   "cell_type": "markdown",
   "metadata": {},
   "source": [
    "# Programming for Data Analysis Project"
   ]
  },
  {
   "cell_type": "markdown",
   "metadata": {},
   "source": [
    "**Problem statement**\n",
    "\n",
    "create a data set by simulating a real-world phenomenon. Then,  model and synthesise data using Python by using\n",
    "the `numpy.random` package.\n",
    "\n",
    "**Guidelines**:\n",
    "    \n",
    "• Choose a real-world phenomenon that can be measured and for which you could\n",
    "collect at least one-hundred data points across at least four different variables.\n",
    "\n",
    "• Investigate the types of variables involved, their likely distributions, and their\n",
    "relationships with each other.\n",
    "\n",
    "• Synthesise/simulate a data set as closely matching their properties as possible.\n",
    "\n",
    "• Detail your research and implement the simulation in a Jupyter notebook – them\n",
    "data set itself can simply be displayed in an output cell within the notebook.\n"
   ]
  },
  {
   "cell_type": "markdown",
   "metadata": {},
   "source": [
    "## Simulating Dublin Airport Movements"
   ]
  },
  {
   "cell_type": "markdown",
   "metadata": {},
   "source": [
    "Dublin airport is the main airport in the Republic of Ireland. It was established 80 years ago. Dublin Airport officially opened at 9:00am on January 19, 1940. It was a cold Friday morning when the inaugural flight - an Aer Lingus Lockheed 14 bound for Liverpool - departed from Collinstown Airport, as it was then known.\n",
    "\n",
    "In this assignment, I will analyse some profile of passengers that were using the airport in 2018 within one hour time frame.\n",
    "\n",
    "Number of passengers per year: 31.5 million in 2018 [1]\n",
    "\n",
    "Average hourly passengers calculated by dividing 31.5 (million) / 364 (days, closed for Chrismas day) which gives us 86,5 (Thousands) passengers daily on average.\n",
    "\n",
    "Hourly Passenger Rate = 31.5 (millions) / 364 (days, closed for Chrismas day)  / 24 (hours).\n",
    "\n",
    "Hourly Passenger Rate = 3605 \n",
    "\n",
    "We can anticipate that there was one passenger using the airport each second."
   ]
  },
  {
   "cell_type": "code",
   "execution_count": null,
   "metadata": {},
   "outputs": [],
   "source": []
  },
  {
   "cell_type": "code",
   "execution_count": 1,
   "metadata": {},
   "outputs": [],
   "source": [
    "# importing numerical library\n",
    "import numpy as np\n",
    "\n",
    "rng = np.random.default_rng()\n",
    "\n",
    "# importing library to generate data frames\n",
    "import pandas as pd\n",
    "\n",
    "# importing libraries for visualisation\n",
    "import matplotlib.pyplot as plt\n",
    "import seaborn as sns\n",
    "\n",
    "# for interactive and inline rendered plots, we use the magic command\n",
    "%matplotlib inline\n",
    "\n",
    "# Better sized plots.\n",
    "plt.rcParams['figure.figsize'] = (12, 8)\n",
    "# Nicer colours and styles for plots.\n",
    "# plt.style.use(\"ggplot\")"
   ]
  },
  {
   "cell_type": "markdown",
   "metadata": {},
   "source": [
    "### Creating the first array in the data set which represents a **DateTime** for an hour in 2018 :"
   ]
  },
  {
   "cell_type": "code",
   "execution_count": 2,
   "metadata": {},
   "outputs": [],
   "source": [
    "# importing datetime function from pandas\n",
    "# https://pandas.pydata.org/docs/user_guide/timeseries.html#timeseries\n",
    "import datetime\n",
    "\n",
    "dti = pd.to_datetime([\"06/11/2018\", np.datetime64('2018-11-06'), datetime.datetime(2018, 11, 6)])\n",
    "\n",
    "DateTime = pd.date_range(\"2018/11/06\", periods = 3600 , freq = \"S\")"
   ]
  },
  {
   "cell_type": "code",
   "execution_count": 3,
   "metadata": {},
   "outputs": [
    {
     "data": {
      "text/plain": [
       "DatetimeIndex(['2018-11-06 00:00:00', '2018-11-06 00:00:01',\n",
       "               '2018-11-06 00:00:02', '2018-11-06 00:00:03',\n",
       "               '2018-11-06 00:00:04', '2018-11-06 00:00:05',\n",
       "               '2018-11-06 00:00:06', '2018-11-06 00:00:07',\n",
       "               '2018-11-06 00:00:08', '2018-11-06 00:00:09',\n",
       "               ...\n",
       "               '2018-11-06 00:59:50', '2018-11-06 00:59:51',\n",
       "               '2018-11-06 00:59:52', '2018-11-06 00:59:53',\n",
       "               '2018-11-06 00:59:54', '2018-11-06 00:59:55',\n",
       "               '2018-11-06 00:59:56', '2018-11-06 00:59:57',\n",
       "               '2018-11-06 00:59:58', '2018-11-06 00:59:59'],\n",
       "              dtype='datetime64[ns]', length=3600, freq='S')"
      ]
     },
     "execution_count": 3,
     "metadata": {},
     "output_type": "execute_result"
    }
   ],
   "source": [
    "DateTime"
   ]
  },
  {
   "cell_type": "markdown",
   "metadata": {},
   "source": [
    "### **Gender** :\n",
    "\n",
    "Representaion of gender of the passengers was:\n",
    "\n",
    "- __51% Male__\n",
    "\n",
    "- __49% Female__ [2]\n"
   ]
  },
  {
   "cell_type": "code",
   "execution_count": 4,
   "metadata": {},
   "outputs": [],
   "source": [
    "genders = (\"male\", \"female\")\n",
    "\n",
    "p = (0.51, 0.49)\n",
    "\n",
    "Gender = rng.choice(genders, size = 3600, p = p)"
   ]
  },
  {
   "cell_type": "markdown",
   "metadata": {},
   "source": [
    "## Age :\n",
    "\n",
    "People of all ages pass through our doors here at Dublin Airport.\n",
    "\n",
    "- __15%__ of our passengers are __Under 25__\n",
    "\n",
    "- __54%__ are between the ages of __25-49__\n",
    "\n",
    "- __30%__ are aged __50__ or __older__ [2]"
   ]
  },
  {
   "cell_type": "code",
   "execution_count": 8,
   "metadata": {},
   "outputs": [
    {
     "data": {
      "text/plain": [
       "array(['25-49', '25-49', 'under_25', ..., 'older_than_50', 'under_25',\n",
       "       '25-49'], dtype='<U13')"
      ]
     },
     "execution_count": 8,
     "metadata": {},
     "output_type": "execute_result"
    }
   ],
   "source": [
    "age_ranges = (\"under_25\", \"25-49\", \"older_than_50\")\n",
    "\n",
    "p = (0.15, 0.55, 0.30)\n",
    "\n",
    "Age = rng.choice(age_ranges, size = 3600, p = p)\n",
    "Age"
   ]
  },
  {
   "cell_type": "markdown",
   "metadata": {},
   "source": [
    "### **Country of Residence** :"
   ]
  },
  {
   "cell_type": "markdown",
   "metadata": {},
   "source": [
    "#### Generating the `Country of Residence` of passengers array\n",
    "\n",
    "\n",
    "People from all over the world visit Dublin Airport\n",
    "\n",
    "- __48%__ of our passengers call the Republic of Ireland their home __(IE)__\n",
    "\n",
    "- __18%__ arrive on our shores from the UK (including NI) __(UK / NI)__\n",
    "\n",
    "- __17%__ visit us from Continental Europe __(EUP)__\n",
    "\n",
    "- __16%__ come from North American destinations __(N-AMR)__\n",
    "\n",
    "- __1%__ come from the Rest of the World __(RoW)__ [2]"
   ]
  },
  {
   "cell_type": "code",
   "execution_count": 17,
   "metadata": {},
   "outputs": [],
   "source": [
    "## Country of Residence: CoR\n",
    "\n",
    "CoR = (\"IE\", \"UK/NI\", \"EUP\", \"N-AMR\", \"RoW\")\n",
    "p = (0.48, 0.18, 0.17, 0.16, 0.01)\n",
    "\n",
    "CoR = rng.choice(CoR, size = 3600, p = p)\n"
   ]
  },
  {
   "cell_type": "code",
   "execution_count": 18,
   "metadata": {},
   "outputs": [
    {
     "data": {
      "text/plain": [
       "array(['N-AMR', 'IE', 'N-AMR', ..., 'IE', 'IE', 'EUP'], dtype='<U5')"
      ]
     },
     "execution_count": 18,
     "metadata": {},
     "output_type": "execute_result"
    }
   ],
   "source": [
    "CoR"
   ]
  },
  {
   "cell_type": "markdown",
   "metadata": {},
   "source": [
    "### Generating The Data Frame"
   ]
  },
  {
   "cell_type": "code",
   "execution_count": null,
   "metadata": {},
   "outputs": [],
   "source": []
  },
  {
   "cell_type": "code",
   "execution_count": 9,
   "metadata": {},
   "outputs": [],
   "source": [
    "df = pd.DataFrame({\"DateTime\" : DateTime, \"Gender\" : Gender, \"Age\" : Age, \"CoR\" : CoR})"
   ]
  },
  {
   "cell_type": "code",
   "execution_count": 10,
   "metadata": {},
   "outputs": [
    {
     "data": {
      "text/html": [
       "<div>\n",
       "<style scoped>\n",
       "    .dataframe tbody tr th:only-of-type {\n",
       "        vertical-align: middle;\n",
       "    }\n",
       "\n",
       "    .dataframe tbody tr th {\n",
       "        vertical-align: top;\n",
       "    }\n",
       "\n",
       "    .dataframe thead th {\n",
       "        text-align: right;\n",
       "    }\n",
       "</style>\n",
       "<table border=\"1\" class=\"dataframe\">\n",
       "  <thead>\n",
       "    <tr style=\"text-align: right;\">\n",
       "      <th></th>\n",
       "      <th>DateTime</th>\n",
       "      <th>Gender</th>\n",
       "      <th>Age</th>\n",
       "      <th>CoR</th>\n",
       "    </tr>\n",
       "  </thead>\n",
       "  <tbody>\n",
       "    <tr>\n",
       "      <th>0</th>\n",
       "      <td>2018-11-06 00:00:00</td>\n",
       "      <td>male</td>\n",
       "      <td>25-49</td>\n",
       "      <td>EUP</td>\n",
       "    </tr>\n",
       "    <tr>\n",
       "      <th>1</th>\n",
       "      <td>2018-11-06 00:00:01</td>\n",
       "      <td>female</td>\n",
       "      <td>25-49</td>\n",
       "      <td>UK/NI</td>\n",
       "    </tr>\n",
       "    <tr>\n",
       "      <th>2</th>\n",
       "      <td>2018-11-06 00:00:02</td>\n",
       "      <td>female</td>\n",
       "      <td>under_25</td>\n",
       "      <td>N-AMR</td>\n",
       "    </tr>\n",
       "    <tr>\n",
       "      <th>3</th>\n",
       "      <td>2018-11-06 00:00:03</td>\n",
       "      <td>male</td>\n",
       "      <td>older_than_50</td>\n",
       "      <td>IE</td>\n",
       "    </tr>\n",
       "    <tr>\n",
       "      <th>4</th>\n",
       "      <td>2018-11-06 00:00:04</td>\n",
       "      <td>male</td>\n",
       "      <td>25-49</td>\n",
       "      <td>N-AMR</td>\n",
       "    </tr>\n",
       "    <tr>\n",
       "      <th>...</th>\n",
       "      <td>...</td>\n",
       "      <td>...</td>\n",
       "      <td>...</td>\n",
       "      <td>...</td>\n",
       "    </tr>\n",
       "    <tr>\n",
       "      <th>3595</th>\n",
       "      <td>2018-11-06 00:59:55</td>\n",
       "      <td>female</td>\n",
       "      <td>25-49</td>\n",
       "      <td>UK/NI</td>\n",
       "    </tr>\n",
       "    <tr>\n",
       "      <th>3596</th>\n",
       "      <td>2018-11-06 00:59:56</td>\n",
       "      <td>male</td>\n",
       "      <td>older_than_50</td>\n",
       "      <td>EUP</td>\n",
       "    </tr>\n",
       "    <tr>\n",
       "      <th>3597</th>\n",
       "      <td>2018-11-06 00:59:57</td>\n",
       "      <td>male</td>\n",
       "      <td>older_than_50</td>\n",
       "      <td>UK/NI</td>\n",
       "    </tr>\n",
       "    <tr>\n",
       "      <th>3598</th>\n",
       "      <td>2018-11-06 00:59:58</td>\n",
       "      <td>male</td>\n",
       "      <td>under_25</td>\n",
       "      <td>IE</td>\n",
       "    </tr>\n",
       "    <tr>\n",
       "      <th>3599</th>\n",
       "      <td>2018-11-06 00:59:59</td>\n",
       "      <td>male</td>\n",
       "      <td>25-49</td>\n",
       "      <td>EUP</td>\n",
       "    </tr>\n",
       "  </tbody>\n",
       "</table>\n",
       "<p>3600 rows × 4 columns</p>\n",
       "</div>"
      ],
      "text/plain": [
       "                DateTime  Gender            Age    CoR\n",
       "0    2018-11-06 00:00:00    male          25-49    EUP\n",
       "1    2018-11-06 00:00:01  female          25-49  UK/NI\n",
       "2    2018-11-06 00:00:02  female       under_25  N-AMR\n",
       "3    2018-11-06 00:00:03    male  older_than_50     IE\n",
       "4    2018-11-06 00:00:04    male          25-49  N-AMR\n",
       "...                  ...     ...            ...    ...\n",
       "3595 2018-11-06 00:59:55  female          25-49  UK/NI\n",
       "3596 2018-11-06 00:59:56    male  older_than_50    EUP\n",
       "3597 2018-11-06 00:59:57    male  older_than_50  UK/NI\n",
       "3598 2018-11-06 00:59:58    male       under_25     IE\n",
       "3599 2018-11-06 00:59:59    male          25-49    EUP\n",
       "\n",
       "[3600 rows x 4 columns]"
      ]
     },
     "execution_count": 10,
     "metadata": {},
     "output_type": "execute_result"
    }
   ],
   "source": [
    "df"
   ]
  },
  {
   "cell_type": "code",
   "execution_count": 22,
   "metadata": {
    "scrolled": true
   },
   "outputs": [
    {
     "data": {
      "text/html": [
       "<div>\n",
       "<style scoped>\n",
       "    .dataframe tbody tr th:only-of-type {\n",
       "        vertical-align: middle;\n",
       "    }\n",
       "\n",
       "    .dataframe tbody tr th {\n",
       "        vertical-align: top;\n",
       "    }\n",
       "\n",
       "    .dataframe thead th {\n",
       "        text-align: right;\n",
       "    }\n",
       "</style>\n",
       "<table border=\"1\" class=\"dataframe\">\n",
       "  <thead>\n",
       "    <tr style=\"text-align: right;\">\n",
       "      <th></th>\n",
       "      <th>0</th>\n",
       "      <th>1</th>\n",
       "      <th>2</th>\n",
       "      <th>3</th>\n",
       "      <th>4</th>\n",
       "      <th>5</th>\n",
       "      <th>6</th>\n",
       "      <th>7</th>\n",
       "      <th>8</th>\n",
       "      <th>9</th>\n",
       "      <th>...</th>\n",
       "      <th>3590</th>\n",
       "      <th>3591</th>\n",
       "      <th>3592</th>\n",
       "      <th>3593</th>\n",
       "      <th>3594</th>\n",
       "      <th>3595</th>\n",
       "      <th>3596</th>\n",
       "      <th>3597</th>\n",
       "      <th>3598</th>\n",
       "      <th>3599</th>\n",
       "    </tr>\n",
       "  </thead>\n",
       "  <tbody>\n",
       "    <tr>\n",
       "      <th>DateTime</th>\n",
       "      <td>2018-11-06 00:00:00</td>\n",
       "      <td>2018-11-06 00:00:01</td>\n",
       "      <td>2018-11-06 00:00:02</td>\n",
       "      <td>2018-11-06 00:00:03</td>\n",
       "      <td>2018-11-06 00:00:04</td>\n",
       "      <td>2018-11-06 00:00:05</td>\n",
       "      <td>2018-11-06 00:00:06</td>\n",
       "      <td>2018-11-06 00:00:07</td>\n",
       "      <td>2018-11-06 00:00:08</td>\n",
       "      <td>2018-11-06 00:00:09</td>\n",
       "      <td>...</td>\n",
       "      <td>2018-11-06 00:59:50</td>\n",
       "      <td>2018-11-06 00:59:51</td>\n",
       "      <td>2018-11-06 00:59:52</td>\n",
       "      <td>2018-11-06 00:59:53</td>\n",
       "      <td>2018-11-06 00:59:54</td>\n",
       "      <td>2018-11-06 00:59:55</td>\n",
       "      <td>2018-11-06 00:59:56</td>\n",
       "      <td>2018-11-06 00:59:57</td>\n",
       "      <td>2018-11-06 00:59:58</td>\n",
       "      <td>2018-11-06 00:59:59</td>\n",
       "    </tr>\n",
       "    <tr>\n",
       "      <th>Gender</th>\n",
       "      <td>male</td>\n",
       "      <td>female</td>\n",
       "      <td>female</td>\n",
       "      <td>male</td>\n",
       "      <td>male</td>\n",
       "      <td>male</td>\n",
       "      <td>male</td>\n",
       "      <td>female</td>\n",
       "      <td>male</td>\n",
       "      <td>male</td>\n",
       "      <td>...</td>\n",
       "      <td>female</td>\n",
       "      <td>female</td>\n",
       "      <td>female</td>\n",
       "      <td>female</td>\n",
       "      <td>female</td>\n",
       "      <td>female</td>\n",
       "      <td>male</td>\n",
       "      <td>male</td>\n",
       "      <td>male</td>\n",
       "      <td>male</td>\n",
       "    </tr>\n",
       "    <tr>\n",
       "      <th>Age</th>\n",
       "      <td>25-49</td>\n",
       "      <td>25-49</td>\n",
       "      <td>under_25</td>\n",
       "      <td>older_than_50</td>\n",
       "      <td>25-49</td>\n",
       "      <td>older_than_50</td>\n",
       "      <td>25-49</td>\n",
       "      <td>25-49</td>\n",
       "      <td>older_than_50</td>\n",
       "      <td>25-49</td>\n",
       "      <td>...</td>\n",
       "      <td>25-49</td>\n",
       "      <td>25-49</td>\n",
       "      <td>older_than_50</td>\n",
       "      <td>older_than_50</td>\n",
       "      <td>under_25</td>\n",
       "      <td>25-49</td>\n",
       "      <td>older_than_50</td>\n",
       "      <td>older_than_50</td>\n",
       "      <td>under_25</td>\n",
       "      <td>25-49</td>\n",
       "    </tr>\n",
       "    <tr>\n",
       "      <th>CoR</th>\n",
       "      <td>EUP</td>\n",
       "      <td>UK/NI</td>\n",
       "      <td>N-AMR</td>\n",
       "      <td>IE</td>\n",
       "      <td>N-AMR</td>\n",
       "      <td>EUP</td>\n",
       "      <td>IE</td>\n",
       "      <td>UK/NI</td>\n",
       "      <td>N-AMR</td>\n",
       "      <td>IE</td>\n",
       "      <td>...</td>\n",
       "      <td>IE</td>\n",
       "      <td>N-AMR</td>\n",
       "      <td>EUP</td>\n",
       "      <td>EUP</td>\n",
       "      <td>UK/NI</td>\n",
       "      <td>UK/NI</td>\n",
       "      <td>EUP</td>\n",
       "      <td>UK/NI</td>\n",
       "      <td>IE</td>\n",
       "      <td>EUP</td>\n",
       "    </tr>\n",
       "  </tbody>\n",
       "</table>\n",
       "<p>4 rows × 3600 columns</p>\n",
       "</div>"
      ],
      "text/plain": [
       "                         0                    1                    2     \\\n",
       "DateTime  2018-11-06 00:00:00  2018-11-06 00:00:01  2018-11-06 00:00:02   \n",
       "Gender                   male               female               female   \n",
       "Age                     25-49                25-49             under_25   \n",
       "CoR                       EUP                UK/NI                N-AMR   \n",
       "\n",
       "                         3                    4                    5     \\\n",
       "DateTime  2018-11-06 00:00:03  2018-11-06 00:00:04  2018-11-06 00:00:05   \n",
       "Gender                   male                 male                 male   \n",
       "Age             older_than_50                25-49        older_than_50   \n",
       "CoR                        IE                N-AMR                  EUP   \n",
       "\n",
       "                         6                    7                    8     \\\n",
       "DateTime  2018-11-06 00:00:06  2018-11-06 00:00:07  2018-11-06 00:00:08   \n",
       "Gender                   male               female                 male   \n",
       "Age                     25-49                25-49        older_than_50   \n",
       "CoR                        IE                UK/NI                N-AMR   \n",
       "\n",
       "                         9     ...                 3590                 3591  \\\n",
       "DateTime  2018-11-06 00:00:09  ...  2018-11-06 00:59:50  2018-11-06 00:59:51   \n",
       "Gender                   male  ...               female               female   \n",
       "Age                     25-49  ...                25-49                25-49   \n",
       "CoR                        IE  ...                   IE                N-AMR   \n",
       "\n",
       "                         3592                 3593                 3594  \\\n",
       "DateTime  2018-11-06 00:59:52  2018-11-06 00:59:53  2018-11-06 00:59:54   \n",
       "Gender                 female               female               female   \n",
       "Age             older_than_50        older_than_50             under_25   \n",
       "CoR                       EUP                  EUP                UK/NI   \n",
       "\n",
       "                         3595                 3596                 3597  \\\n",
       "DateTime  2018-11-06 00:59:55  2018-11-06 00:59:56  2018-11-06 00:59:57   \n",
       "Gender                 female                 male                 male   \n",
       "Age                     25-49        older_than_50        older_than_50   \n",
       "CoR                     UK/NI                  EUP                UK/NI   \n",
       "\n",
       "                         3598                 3599  \n",
       "DateTime  2018-11-06 00:59:58  2018-11-06 00:59:59  \n",
       "Gender                   male                 male  \n",
       "Age                  under_25                25-49  \n",
       "CoR                        IE                  EUP  \n",
       "\n",
       "[4 rows x 3600 columns]"
      ]
     },
     "execution_count": 22,
     "metadata": {},
     "output_type": "execute_result"
    }
   ],
   "source": [
    "df.transpose()"
   ]
  },
  {
   "cell_type": "code",
   "execution_count": 23,
   "metadata": {},
   "outputs": [
    {
     "data": {
      "text/html": [
       "<div>\n",
       "<style scoped>\n",
       "    .dataframe tbody tr th:only-of-type {\n",
       "        vertical-align: middle;\n",
       "    }\n",
       "\n",
       "    .dataframe tbody tr th {\n",
       "        vertical-align: top;\n",
       "    }\n",
       "\n",
       "    .dataframe thead th {\n",
       "        text-align: right;\n",
       "    }\n",
       "</style>\n",
       "<table border=\"1\" class=\"dataframe\">\n",
       "  <thead>\n",
       "    <tr style=\"text-align: right;\">\n",
       "      <th></th>\n",
       "      <th>DateTime</th>\n",
       "      <th>Gender</th>\n",
       "      <th>Age</th>\n",
       "      <th>CoR</th>\n",
       "    </tr>\n",
       "  </thead>\n",
       "  <tbody>\n",
       "    <tr>\n",
       "      <th>0</th>\n",
       "      <td>2018-11-06 00:00:00</td>\n",
       "      <td>male</td>\n",
       "      <td>25-49</td>\n",
       "      <td>EUP</td>\n",
       "    </tr>\n",
       "    <tr>\n",
       "      <th>1</th>\n",
       "      <td>2018-11-06 00:00:01</td>\n",
       "      <td>female</td>\n",
       "      <td>25-49</td>\n",
       "      <td>UK/NI</td>\n",
       "    </tr>\n",
       "    <tr>\n",
       "      <th>2</th>\n",
       "      <td>2018-11-06 00:00:02</td>\n",
       "      <td>female</td>\n",
       "      <td>under_25</td>\n",
       "      <td>N-AMR</td>\n",
       "    </tr>\n",
       "    <tr>\n",
       "      <th>3</th>\n",
       "      <td>2018-11-06 00:00:03</td>\n",
       "      <td>male</td>\n",
       "      <td>older_than_50</td>\n",
       "      <td>IE</td>\n",
       "    </tr>\n",
       "    <tr>\n",
       "      <th>4</th>\n",
       "      <td>2018-11-06 00:00:04</td>\n",
       "      <td>male</td>\n",
       "      <td>25-49</td>\n",
       "      <td>N-AMR</td>\n",
       "    </tr>\n",
       "  </tbody>\n",
       "</table>\n",
       "</div>"
      ],
      "text/plain": [
       "             DateTime  Gender            Age    CoR\n",
       "0 2018-11-06 00:00:00    male          25-49    EUP\n",
       "1 2018-11-06 00:00:01  female          25-49  UK/NI\n",
       "2 2018-11-06 00:00:02  female       under_25  N-AMR\n",
       "3 2018-11-06 00:00:03    male  older_than_50     IE\n",
       "4 2018-11-06 00:00:04    male          25-49  N-AMR"
      ]
     },
     "execution_count": 23,
     "metadata": {},
     "output_type": "execute_result"
    }
   ],
   "source": [
    "df.head()"
   ]
  },
  {
   "cell_type": "code",
   "execution_count": 24,
   "metadata": {},
   "outputs": [
    {
     "data": {
      "text/html": [
       "<div>\n",
       "<style scoped>\n",
       "    .dataframe tbody tr th:only-of-type {\n",
       "        vertical-align: middle;\n",
       "    }\n",
       "\n",
       "    .dataframe tbody tr th {\n",
       "        vertical-align: top;\n",
       "    }\n",
       "\n",
       "    .dataframe thead th {\n",
       "        text-align: right;\n",
       "    }\n",
       "</style>\n",
       "<table border=\"1\" class=\"dataframe\">\n",
       "  <thead>\n",
       "    <tr style=\"text-align: right;\">\n",
       "      <th></th>\n",
       "      <th>DateTime</th>\n",
       "      <th>Gender</th>\n",
       "      <th>Age</th>\n",
       "      <th>CoR</th>\n",
       "    </tr>\n",
       "  </thead>\n",
       "  <tbody>\n",
       "    <tr>\n",
       "      <th>count</th>\n",
       "      <td>3600</td>\n",
       "      <td>3600</td>\n",
       "      <td>3600</td>\n",
       "      <td>3600</td>\n",
       "    </tr>\n",
       "    <tr>\n",
       "      <th>unique</th>\n",
       "      <td>3600</td>\n",
       "      <td>2</td>\n",
       "      <td>3</td>\n",
       "      <td>5</td>\n",
       "    </tr>\n",
       "    <tr>\n",
       "      <th>top</th>\n",
       "      <td>2018-11-06 00:02:00</td>\n",
       "      <td>male</td>\n",
       "      <td>25-49</td>\n",
       "      <td>IE</td>\n",
       "    </tr>\n",
       "    <tr>\n",
       "      <th>freq</th>\n",
       "      <td>1</td>\n",
       "      <td>1801</td>\n",
       "      <td>1971</td>\n",
       "      <td>1752</td>\n",
       "    </tr>\n",
       "    <tr>\n",
       "      <th>first</th>\n",
       "      <td>2018-11-06 00:00:00</td>\n",
       "      <td>NaN</td>\n",
       "      <td>NaN</td>\n",
       "      <td>NaN</td>\n",
       "    </tr>\n",
       "    <tr>\n",
       "      <th>last</th>\n",
       "      <td>2018-11-06 00:59:59</td>\n",
       "      <td>NaN</td>\n",
       "      <td>NaN</td>\n",
       "      <td>NaN</td>\n",
       "    </tr>\n",
       "  </tbody>\n",
       "</table>\n",
       "</div>"
      ],
      "text/plain": [
       "                   DateTime Gender    Age   CoR\n",
       "count                  3600   3600   3600  3600\n",
       "unique                 3600      2      3     5\n",
       "top     2018-11-06 00:02:00   male  25-49    IE\n",
       "freq                      1   1801   1971  1752\n",
       "first   2018-11-06 00:00:00    NaN    NaN   NaN\n",
       "last    2018-11-06 00:59:59    NaN    NaN   NaN"
      ]
     },
     "execution_count": 24,
     "metadata": {},
     "output_type": "execute_result"
    }
   ],
   "source": [
    "df.describe()"
   ]
  },
  {
   "cell_type": "code",
   "execution_count": 26,
   "metadata": {},
   "outputs": [
    {
     "data": {
      "text/plain": [
       "<bound method DataFrame.mean of                 DateTime  Gender            Age    CoR\n",
       "0    2018-11-06 00:00:00    male          25-49    EUP\n",
       "1    2018-11-06 00:00:01  female          25-49  UK/NI\n",
       "2    2018-11-06 00:00:02  female       under_25  N-AMR\n",
       "3    2018-11-06 00:00:03    male  older_than_50     IE\n",
       "4    2018-11-06 00:00:04    male          25-49  N-AMR\n",
       "...                  ...     ...            ...    ...\n",
       "3595 2018-11-06 00:59:55  female          25-49  UK/NI\n",
       "3596 2018-11-06 00:59:56    male  older_than_50    EUP\n",
       "3597 2018-11-06 00:59:57    male  older_than_50  UK/NI\n",
       "3598 2018-11-06 00:59:58    male       under_25     IE\n",
       "3599 2018-11-06 00:59:59    male          25-49    EUP\n",
       "\n",
       "[3600 rows x 4 columns]>"
      ]
     },
     "execution_count": 26,
     "metadata": {},
     "output_type": "execute_result"
    }
   ],
   "source": [
    "df.mean"
   ]
  },
  {
   "cell_type": "markdown",
   "metadata": {},
   "source": [
    "## References:\n",
    "\n",
    "[1] Dublin Airport; Facts and Figures: https://www.dublinairport.com/corporate/about-us/facts-and-figures\n",
    "\n",
    "[2] Dublin Airport; Passenger Profile: https://www.dublinairport.com/corporate/about-us/passenger-profile\n",
    "\n",
    "[3] caktusgroup: https://www.caktusgroup.com/blog/2020/04/15/quick-guide-generating-fake-data-with-pandas/\n"
   ]
  },
  {
   "cell_type": "code",
   "execution_count": null,
   "metadata": {},
   "outputs": [],
   "source": []
  }
 ],
 "metadata": {
  "kernelspec": {
   "display_name": "Python 3",
   "language": "python",
   "name": "python3"
  },
  "language_info": {
   "codemirror_mode": {
    "name": "ipython",
    "version": 3
   },
   "file_extension": ".py",
   "mimetype": "text/x-python",
   "name": "python",
   "nbconvert_exporter": "python",
   "pygments_lexer": "ipython3",
   "version": "3.8.3"
  }
 },
 "nbformat": 4,
 "nbformat_minor": 4
}
