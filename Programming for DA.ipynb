{
 "cells": [
  {
   "cell_type": "markdown",
   "metadata": {},
   "source": [
    "# Programming for Data Analysis Project"
   ]
  },
  {
   "cell_type": "markdown",
   "metadata": {},
   "source": [
    "**Problem statement**\n",
    "\n",
    "create a data set by simulating a real-world phenomenon. Then,  model and synthesise data using Python by using\n",
    "the `numpy.random` package.\n",
    "\n",
    "**Guidelines**:\n",
    "    \n",
    "• Choose a real-world phenomenon that can be measured and for which you could\n",
    "collect at least one-hundred data points across at least four different variables.\n",
    "\n",
    "• Investigate the types of variables involved, their likely distributions, and their\n",
    "relationships with each other.\n",
    "\n",
    "• Synthesise/simulate a data set as closely matching their properties as possible.\n",
    "\n",
    "• Detail your research and implement the simulation in a Jupyter notebook – them\n",
    "data set itself can simply be displayed in an output cell within the notebook.\n"
   ]
  },
  {
   "cell_type": "markdown",
   "metadata": {},
   "source": [
    "## Simulating Dublin Airport Passenger Movements in 2018"
   ]
  },
  {
   "cell_type": "markdown",
   "metadata": {},
   "source": [
    "Dublin airport is the main airport in the Republic of Ireland. It was established 80 years ago. Dublin Airport officially opened at 9:00am on January 19, 1940. It was a cold Friday morning when the inaugural flight - an Aer Lingus Lockheed 14 bound for Liverpool - departed from Collinstown Airport, as it was then known.\n",
    "\n",
    "In this assignment, I will analyse some profile of passengers that were using the airport in 2018 within one hour time frame.\n",
    "\n",
    "Number of passengers per year: 31.5 million in 2018 [1]\n",
    "\n",
    "Average hourly passengers calculated by dividing 31.5 (million) / 364 (days, closed for Chrismas day) which gives us 86,5 (Thousands) passengers daily on average.\n",
    "\n",
    "Hourly Passenger Rate = 31.5 (millions) / 364 (days, closed for Chrismas day)  / 24 (hours).\n",
    "\n",
    "Hourly Passenger Rate = 3605 \n",
    "\n",
    "So, we can anticipate that nearly a __one passenger each second__ was using the airport\n",
    "\n",
    "We can anticipate that there was one passenger using the airport each second."
   ]
  },
  {
   "cell_type": "markdown",
   "metadata": {},
   "source": [
    "## Importing Packages:"
   ]
  },
  {
   "cell_type": "code",
   "execution_count": 1,
   "metadata": {},
   "outputs": [],
   "source": [
    "# importing numerical library\n",
    "import numpy as np\n",
    "\n",
    "rng = np.random.default_rng()\n",
    "\n",
    "# importing library to generate data frames\n",
    "import pandas as pd\n",
    "\n",
    "# importing libraries for visualisation\n",
    "import matplotlib.pyplot as plt\n",
    "import seaborn as sns\n",
    "\n",
    "# for interactive and inline rendered plots, we use the magic command\n",
    "%matplotlib inline\n",
    "\n",
    "# Better sized plots.\n",
    "plt.rcParams['figure.figsize'] = (12, 8)\n",
    "\n",
    "# Nicer colours and styles for plots.\n",
    "plt.style.use(\"ggplot\")"
   ]
  },
  {
   "cell_type": "markdown",
   "metadata": {},
   "source": [
    "### *DateTime* :"
   ]
  },
  {
   "cell_type": "markdown",
   "metadata": {},
   "source": [
    "Generating a random array with `3600 seconds` that represents a time period of an hour in 2018."
   ]
  },
  {
   "cell_type": "code",
   "execution_count": 2,
   "metadata": {},
   "outputs": [],
   "source": [
    "# https://pandas.pydata.org/docs/user_guide/timeseries.html#timeseries\n",
    "# importing datetime function from pandas\n",
    "import datetime\n",
    "\n",
    "# PCG64\n",
    "rng = np.random.default_rng()\n",
    "\n",
    "# adapted from https://stackoverflow.com/questions/50559078/generating-random-dates-within-a-given-range-in-pandas[3].\n",
    "\n",
    "try:\n",
    "    def random_dates(start, end, n=3600):\n",
    "        start_u = start.value//10**9\n",
    "        end_u = end.value//10**9         \n",
    "        return pd.to_datetime(rng.integers(start_u, end_u, n), unit='s')\n",
    "except Christmas:\n",
    "    print(\"This is Christmas day, The Airport was closed!, Please try again\")\n",
    "\n",
    "Christmas = (2018-12-25)    \n",
    "    \n",
    "start = pd.to_datetime(\"2018-01-01\")\n",
    "end = pd.to_datetime(\"2018-12-31\")\n",
    "\n",
    "DateTime = random_dates(start, end)"
   ]
  },
  {
   "cell_type": "code",
   "execution_count": 3,
   "metadata": {},
   "outputs": [
    {
     "data": {
      "text/plain": [
       "DatetimeIndex(['2018-04-04 09:26:34', '2018-02-09 09:35:54',\n",
       "               '2018-08-23 13:21:51', '2018-08-27 00:17:18',\n",
       "               '2018-12-25 21:29:17', '2018-04-21 20:01:53',\n",
       "               '2018-12-16 05:47:40', '2018-05-22 17:48:24',\n",
       "               '2018-02-24 03:47:33', '2018-06-01 22:50:22',\n",
       "               ...\n",
       "               '2018-09-11 23:42:39', '2018-08-13 10:47:04',\n",
       "               '2018-07-21 05:47:13', '2018-07-26 19:09:30',\n",
       "               '2018-05-08 10:23:29', '2018-12-13 12:14:59',\n",
       "               '2018-05-14 10:21:54', '2018-01-15 15:52:59',\n",
       "               '2018-07-20 02:06:36', '2018-03-21 05:23:58'],\n",
       "              dtype='datetime64[ns]', length=3600, freq=None)"
      ]
     },
     "execution_count": 3,
     "metadata": {},
     "output_type": "execute_result"
    }
   ],
   "source": [
    "DateTime"
   ]
  },
  {
   "cell_type": "code",
   "execution_count": 4,
   "metadata": {},
   "outputs": [
    {
     "data": {
      "text/plain": [
       "Text(0.5, 1.0, 'A Uniform Distribution resembling number of passengers movement')"
      ]
     },
     "execution_count": 4,
     "metadata": {},
     "output_type": "execute_result"
    },
    {
     "data": {
      "image/png": "[encoded data removed]",
      "text/plain": [
       "<Figure size 864x576 with 1 Axes>"
      ]
     },
     "metadata": {},
     "output_type": "display_data"
    }
   ],
   "source": [
    "plt.hist(DateTime)\n",
    "plt.xlabel(\"Date Range\")\n",
    "plt.ylabel(\"Number of Passengers\")\n",
    "plt.title(\"A Uniform Distribution resembling number of passengers movement\")"
   ]
  },
  {
   "cell_type": "markdown",
   "metadata": {},
   "source": [
    "***\n",
    "<br>\n",
    "\n",
    "### *Gender* :\n",
    "\n",
    "Representaion of gender of the passengers as was reported[2]:\n",
    "\n",
    "- __51% Male__\n",
    "\n",
    "- __49% Female__\n"
   ]
  },
  {
   "cell_type": "code",
   "execution_count": 5,
   "metadata": {},
   "outputs": [],
   "source": [
    "genders = (\"male\", \"female\")\n",
    "\n",
    "p = (0.51, 0.49)\n",
    "\n",
    "Gender = rng.choice(genders, size = 3600, p = p)"
   ]
  },
  {
   "cell_type": "code",
   "execution_count": 6,
   "metadata": {
    "scrolled": true
   },
   "outputs": [
    {
     "name": "stdout",
     "output_type": "stream",
     "text": [
      "Gender Array is: ['female' 'male' 'male' ... 'male' 'female' 'female']\n"
     ]
    }
   ],
   "source": [
    "print(\"Gender Array is:\", Gender)"
   ]
  },
  {
   "cell_type": "code",
   "execution_count": 7,
   "metadata": {},
   "outputs": [
    {
     "data": {
      "text/plain": [
       "Text(0.5, 1.0, 'Representation of Gender')"
      ]
     },
     "execution_count": 7,
     "metadata": {},
     "output_type": "execute_result"
    },
    {
     "data": {
      "image/png": "[encoded data removed]",
      "text/plain": [
       "<Figure size 864x576 with 1 Axes>"
      ]
     },
     "metadata": {},
     "output_type": "display_data"
    }
   ],
   "source": [
    "plt.hist(Gender)\n",
    "plt.xlabel(\"Gender\")\n",
    "plt.ylabel(\"Count\")\n",
    "plt.title(\"Representation of Gender\")"
   ]
  },
  {
   "cell_type": "markdown",
   "metadata": {},
   "source": [
    "***\n",
    "<br>\n",
    "\n",
    "### *Age* :\n",
    "\n",
    "People of all ages pass through our doors here at Dublin Airport.\n",
    "\n",
    "- __15%__ of our passengers are __`< 25`__\n",
    "\n",
    "- __54%__ are between the ages of __`25-49`__\n",
    "\n",
    "- __30%__ are aged 50 or older __`> 50`__ [2]\n",
    "\n",
    "_Note: The total percentage doesn't mathematically correspond to 100% rate, so, there has been an adjustment on 25-49 age group which was reported to be 54%, new value assigned 55%_."
   ]
  },
  {
   "cell_type": "code",
   "execution_count": 8,
   "metadata": {},
   "outputs": [
    {
     "name": "stdout",
     "output_type": "stream",
     "text": [
      "Age Array is: ['< 25' '25-49' '> 50' ... '> 50' '25-49' '25-49']\n"
     ]
    }
   ],
   "source": [
    "age_ranges = (\"< 25\", \"25-49\", \"> 50\")\n",
    "\n",
    "p = (0.15, 0.55, 0.30)\n",
    "\n",
    "Age = rng.choice(age_ranges, size = 3600, p = p)\n",
    "print (\"Age Array is:\", Age)"
   ]
  },
  {
   "cell_type": "code",
   "execution_count": 9,
   "metadata": {},
   "outputs": [
    {
     "data": {
      "text/plain": [
       "Text(0.5, 1.0, 'Representation of Age')"
      ]
     },
     "execution_count": 9,
     "metadata": {},
     "output_type": "execute_result"
    },
    {
     "data": {
      "image/png": "[encoded data removed]",
      "text/plain": [
       "<Figure size 864x576 with 1 Axes>"
      ]
     },
     "metadata": {},
     "output_type": "display_data"
    }
   ],
   "source": [
    "plt.hist(Age)\n",
    "plt.xlabel(\"Age Range\")\n",
    "plt.ylabel(\"Count\")\n",
    "plt.title(\"Representation of Age\")"
   ]
  },
  {
   "cell_type": "markdown",
   "metadata": {},
   "source": [
    "***\n",
    "\n",
    "<br>\n",
    "\n",
    "### *Country of Residence* :"
   ]
  },
  {
   "cell_type": "markdown",
   "metadata": {},
   "source": [
    "#### Generating the `Country of Residence`  array\n",
    "\n",
    "\n",
    "People from all over the world visit Dublin Airport\n",
    "\n",
    "- __48%__ of our passengers call the Republic of Ireland their home __(IE)__\n",
    "\n",
    "- __18%__ arrive on our shores from the UK (including NI) __(UK / NI)__\n",
    "\n",
    "- __17%__ visit us from Continental Europe __(EUP)__\n",
    "\n",
    "- __16%__ come from North American destinations __(N-AMR)__\n",
    "\n",
    "- __1%__ come from the Rest of the World __(RoW)__ [2]"
   ]
  },
  {
   "cell_type": "code",
   "execution_count": 10,
   "metadata": {},
   "outputs": [],
   "source": [
    "# Country of Residence: CoR\n",
    "\n",
    "CoR = (\"IE\", \"UK/NI\", \"EUP\", \"N-AMR\", \"RoW\")\n",
    "p = (0.48, 0.18, 0.17, 0.16, 0.01)\n",
    "\n",
    "CoR = rng.choice(CoR, size = 3600, p = p)\n"
   ]
  },
  {
   "cell_type": "code",
   "execution_count": 12,
   "metadata": {},
   "outputs": [
    {
     "name": "stdout",
     "output_type": "stream",
     "text": [
      "Country of Risedence Array is: ['N-AMR' 'IE' 'IE' ... 'EUP' 'IE' 'N-AMR']\n"
     ]
    }
   ],
   "source": [
    "print (\"Country of Risedence Array is:\", CoR)"
   ]
  },
  {
   "cell_type": "code",
   "execution_count": 13,
   "metadata": {},
   "outputs": [
    {
     "data": {
      "text/plain": [
       "Text(0.5, 1.0, 'Representation of Country of Risedence')"
      ]
     },
     "execution_count": 13,
     "metadata": {},
     "output_type": "execute_result"
    },
    {
     "data": {
      "image/png": "[encoded data removed]",
      "text/plain": [
       "<Figure size 864x576 with 1 Axes>"
      ]
     },
     "metadata": {},
     "output_type": "display_data"
    }
   ],
   "source": [
    "plt.hist(CoR)\n",
    "plt.xlabel(\"Country of Risedence\")\n",
    "plt.ylabel(\"Count\")\n",
    "plt.title(\"Representation of Country of Risedence\")"
   ]
  },
  {
   "cell_type": "markdown",
   "metadata": {},
   "source": [
    "***\n",
    "<br>\n",
    "\n",
    "### *Socio-Economic Class*:\n",
    "\n",
    "- ABC1s __71%__\n",
    "\n",
    "- C2DEs __29%__\n",
    "\n",
    "- Farmers __1%__ [2]\n",
    "\n",
    "_Note: The total percentage doesn't mathematically correspond to 100% rate, so, there has been an adjustment on the ABC1s which was reported to be 71%,, new value assigned 70%_."
   ]
  },
  {
   "cell_type": "code",
   "execution_count": null,
   "metadata": {},
   "outputs": [],
   "source": [
    "# Socio-Economic Class : SEC\n",
    "\n",
    "SEC = (\"ABC1s\", \"C2DEs\", \"Farmers\")\n",
    "p = (0.70, 0.29, 0.01)\n",
    "\n",
    "SEC = rng.choice(SEC, size = 3600, p = p)\n"
   ]
  },
  {
   "cell_type": "markdown",
   "metadata": {},
   "source": [
    "***\n",
    "<br>\n",
    "\n",
    "### Generating The Data Frame"
   ]
  },
  {
   "cell_type": "code",
   "execution_count": null,
   "metadata": {},
   "outputs": [],
   "source": [
    "df = pd.DataFrame({\"DateTime\" : DateTime, \"Gender\" : Gender, \"Age\" : Age, \"CoR\" : CoR, \"SEC\" : SEC})"
   ]
  },
  {
   "cell_type": "code",
   "execution_count": null,
   "metadata": {},
   "outputs": [],
   "source": [
    "df"
   ]
  },
  {
   "cell_type": "code",
   "execution_count": null,
   "metadata": {
    "scrolled": true
   },
   "outputs": [],
   "source": [
    "df.transpose()"
   ]
  },
  {
   "cell_type": "code",
   "execution_count": null,
   "metadata": {},
   "outputs": [],
   "source": [
    "df.head()"
   ]
  },
  {
   "cell_type": "code",
   "execution_count": null,
   "metadata": {},
   "outputs": [],
   "source": [
    "df.describe()"
   ]
  },
  {
   "cell_type": "code",
   "execution_count": null,
   "metadata": {},
   "outputs": [],
   "source": [
    "df.mean\n"
   ]
  },
  {
   "cell_type": "markdown",
   "metadata": {},
   "source": [
    "## References:\n",
    "\n",
    "[1] Dublin Airport; Facts and Figures: https://www.dublinairport.com/corporate/about-us/facts-and-figures\n",
    "\n",
    "[2] Dublin Airport; Passenger Profile: https://www.dublinairport.com/corporate/about-us/passenger-profile\n",
    "\n",
    "[3] caktusgroup: https://www.caktusgroup.com/blog/2020/04/15/quick-guide-generating-fake-data-with-pandas/\n",
    "\n",
    "[4] stackoverflow: https://stackoverflow.com/questions/50559078/generating-random-dates-within-a-given-range-in-pandas\n",
    "\n",
    "https://www.hbs.edu/faculty/Publication%20Files/19-040_89360426-c7a9-4aac-95e1-a3a3db276dc8.pdf\n"
   ]
  },
  {
   "cell_type": "markdown",
   "metadata": {},
   "source": [
    "## End"
   ]
  }
 ],
 "metadata": {
  "kernelspec": {
   "display_name": "Python 3",
   "language": "python",
   "name": "python3"
  },
  "language_info": {
   "codemirror_mode": {
    "name": "ipython",
    "version": 3
   },
   "file_extension": ".py",
   "mimetype": "text/x-python",
   "name": "python",
   "nbconvert_exporter": "python",
   "pygments_lexer": "ipython3",
   "version": "3.8.3"
  }
 },
 "nbformat": 4,
 "nbformat_minor": 4
}
