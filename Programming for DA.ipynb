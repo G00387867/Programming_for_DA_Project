{
 "cells": [
  {
   "cell_type": "markdown",
   "metadata": {},
   "source": [
    "# Programming for Data Analysis Project"
   ]
  },
  {
   "cell_type": "markdown",
   "metadata": {},
   "source": [
    "**Problem statement**\n",
    "\n",
    "create a data set by simulating a real-world phenomenon. Then,  model and synthesise data using Python by using\n",
    "the `numpy.random` package.\n",
    "\n",
    "**Guidelines**:\n",
    "    \n",
    "• Choose a real-world phenomenon that can be measured and for which you could\n",
    "collect at least one-hundred data points across at least four different variables.\n",
    "\n",
    "• Investigate the types of variables involved, their likely distributions, and their\n",
    "relationships with each other.\n",
    "\n",
    "• Synthesise/simulate a data set as closely matching their properties as possible.\n",
    "\n",
    "• Detail your research and implement the simulation in a Jupyter notebook – them\n",
    "data set itself can simply be displayed in an output cell within the notebook.\n"
   ]
  },
  {
   "cell_type": "markdown",
   "metadata": {},
   "source": [
    "## Simulating Dublin Airport Passenger Movements in 2018"
   ]
  },
  {
   "cell_type": "markdown",
   "metadata": {},
   "source": [
    "Dublin airport is the main airport in the Republic of Ireland. It was established 80 years ago. Dublin Airport officially opened at 9:00am on January 19, 1940. It was a cold Friday morning when the inaugural flight - an Aer Lingus Lockheed 14 bound for Liverpool - departed from Collinstown Airport, as it was then known.\n",
    "\n",
    "In this assignment, I will analyse some profile of passengers that were using the airport in 2018 within one hour time frame.\n",
    "\n",
    "Number of passengers per year: 31.5 million in 2018 [1]\n",
    "\n",
    "Average hourly passengers calculated by dividing 31.5 (million) / 364 (days, closed for Chrismas day) which gives us 86,5 (Thousands) passengers daily on average.\n",
    "\n",
    "Hourly Passenger Rate = 31.5 (millions) / 364 (days, closed for Chrismas day)  / 24 (hours).\n",
    "\n",
    "Hourly Passenger Rate = 3605 \n",
    "\n",
    "We can anticipate that there was one passenger using the airport each second."
   ]
  },
  {
   "cell_type": "markdown",
   "metadata": {},
   "source": [
    "## Importing Packages:"
   ]
  },
  {
   "cell_type": "code",
   "execution_count": 30,
   "metadata": {},
   "outputs": [],
   "source": [
    "# importing numerical library\n",
    "import numpy as np\n",
    "\n",
    "rng = np.random.default_rng()\n",
    "\n",
    "# importing library to generate data frames\n",
    "import pandas as pd\n",
    "\n",
    "# importing libraries for visualisation\n",
    "import matplotlib.pyplot as plt\n",
    "import seaborn as sns\n",
    "\n",
    "# for interactive and inline rendered plots, we use the magic command\n",
    "%matplotlib inline\n",
    "\n",
    "# Better sized plots.\n",
    "plt.rcParams['figure.figsize'] = (12, 8)\n",
    "\n",
    "# Nicer colours and styles for plots.\n",
    "plt.style.use(\"ggplot\")"
   ]
  },
  {
   "cell_type": "markdown",
   "metadata": {},
   "source": [
    "### Creating the first array in the data set which represents a **DateTime** for an hour in 2018 :"
   ]
  },
  {
   "cell_type": "code",
   "execution_count": 2,
   "metadata": {},
   "outputs": [],
   "source": [
    "# importing datetime function from pandas\n",
    "# https://pandas.pydata.org/docs/user_guide/timeseries.html#timeseries\n",
    "import datetime\n",
    "\n",
    "dti = pd.to_datetime([\"06/11/2018\", np.datetime64('2018-11-06'), datetime.datetime(2018, 11, 6)])\n",
    "\n",
    "DateTime = pd.date_range(\"2018/11/06\", periods = 3600 , freq = \"S\")"
   ]
  },
  {
   "cell_type": "code",
   "execution_count": 3,
   "metadata": {},
   "outputs": [
    {
     "data": {
      "text/plain": [
       "DatetimeIndex(['2018-11-06 00:00:00', '2018-11-06 00:00:01',\n",
       "               '2018-11-06 00:00:02', '2018-11-06 00:00:03',\n",
       "               '2018-11-06 00:00:04', '2018-11-06 00:00:05',\n",
       "               '2018-11-06 00:00:06', '2018-11-06 00:00:07',\n",
       "               '2018-11-06 00:00:08', '2018-11-06 00:00:09',\n",
       "               ...\n",
       "               '2018-11-06 00:59:50', '2018-11-06 00:59:51',\n",
       "               '2018-11-06 00:59:52', '2018-11-06 00:59:53',\n",
       "               '2018-11-06 00:59:54', '2018-11-06 00:59:55',\n",
       "               '2018-11-06 00:59:56', '2018-11-06 00:59:57',\n",
       "               '2018-11-06 00:59:58', '2018-11-06 00:59:59'],\n",
       "              dtype='datetime64[ns]', length=3600, freq='S')"
      ]
     },
     "execution_count": 3,
     "metadata": {},
     "output_type": "execute_result"
    }
   ],
   "source": [
    "DateTime"
   ]
  },
  {
   "cell_type": "markdown",
   "metadata": {},
   "source": [
    "***\n",
    "<br>\n",
    "\n",
    "### **Gender** :\n",
    "\n",
    "Representaion of gender of the passengers as was reported:\n",
    "\n",
    "- __51% Male__\n",
    "\n",
    "- __49% Female__ [2]\n"
   ]
  },
  {
   "cell_type": "code",
   "execution_count": 4,
   "metadata": {},
   "outputs": [],
   "source": [
    "genders = (\"male\", \"female\")\n",
    "\n",
    "p = (0.51, 0.49)\n",
    "\n",
    "Gender = rng.choice(genders, size = 3600, p = p)"
   ]
  },
  {
   "cell_type": "code",
   "execution_count": 29,
   "metadata": {
    "scrolled": true
   },
   "outputs": [
    {
     "name": "stdout",
     "output_type": "stream",
     "text": [
      "Gender Array is: ['female' 'male' 'female' ... 'female' 'female' 'male']\n"
     ]
    }
   ],
   "source": [
    "print(\"Gender Array is:\", Gender)"
   ]
  },
  {
   "cell_type": "markdown",
   "metadata": {},
   "source": [
    "***\n",
    "<br>\n",
    "\n",
    "## Age :\n",
    "\n",
    "People of all ages pass through our doors here at Dublin Airport.\n",
    "\n",
    "- __15%__ of our passengers are __`< 25`__\n",
    "\n",
    "- __54%__ are between the ages of __`25-49`__\n",
    "\n",
    "- __30%__ are aged 50 or older __`> 50`__ [2]\n",
    "\n",
    "_Note: The total percentage doesn't mathematically correspond to 100% rate, so, there has been an adjustment on 25-49 age group which was reported to be 54%, new value assigned 55%_."
   ]
  },
  {
   "cell_type": "code",
   "execution_count": 43,
   "metadata": {},
   "outputs": [
    {
     "name": "stdout",
     "output_type": "stream",
     "text": [
      "Age Array is: ['25-49' '25-49' '25-49' ... '25-49' '25-49' '25-49']\n"
     ]
    }
   ],
   "source": [
    "age_ranges = (\"< 25\", \"25-49\", \"> 50\")\n",
    "\n",
    "p = (0.15, 0.55, 0.30)\n",
    "\n",
    "Age = rng.choice(age_ranges, size = 3600, p = p)\n",
    "print (\"Age Array is:\", Age)"
   ]
  },
  {
   "cell_type": "markdown",
   "metadata": {},
   "source": [
    "### **Country of Residence** :"
   ]
  },
  {
   "cell_type": "markdown",
   "metadata": {},
   "source": [
    "#### Generating the `Country of Residence`  array\n",
    "\n",
    "\n",
    "People from all over the world visit Dublin Airport\n",
    "\n",
    "- __48%__ of our passengers call the Republic of Ireland their home __(IE)__\n",
    "\n",
    "- __18%__ arrive on our shores from the UK (including NI) __(UK / NI)__\n",
    "\n",
    "- __17%__ visit us from Continental Europe __(EUP)__\n",
    "\n",
    "- __16%__ come from North American destinations __(N-AMR)__\n",
    "\n",
    "- __1%__ come from the Rest of the World __(RoW)__ [2]"
   ]
  },
  {
   "cell_type": "code",
   "execution_count": 44,
   "metadata": {},
   "outputs": [],
   "source": [
    "# Country of Residence: CoR\n",
    "\n",
    "CoR = (\"IE\", \"UK/NI\", \"EUP\", \"N-AMR\", \"RoW\")\n",
    "p = (0.48, 0.18, 0.17, 0.16, 0.01)\n",
    "\n",
    "CoR = rng.choice(CoR, size = 3600, p = p)\n"
   ]
  },
  {
   "cell_type": "code",
   "execution_count": 45,
   "metadata": {},
   "outputs": [
    {
     "data": {
      "text/plain": [
       "array(['UK/NI', 'IE', 'IE', ..., 'EUP', 'EUP', 'IE'], dtype='<U5')"
      ]
     },
     "execution_count": 45,
     "metadata": {},
     "output_type": "execute_result"
    }
   ],
   "source": [
    "CoR"
   ]
  },
  {
   "cell_type": "markdown",
   "metadata": {},
   "source": [
    "***\n",
    "<br>\n",
    "\n",
    "### Socio-Economic Class:\n",
    "\n",
    "- ABC1s __71%__\n",
    "\n",
    "- C2DEs __29%__\n",
    "\n",
    "- Farmers __1%__ [2]\n",
    "\n",
    "_Note: The total percentage doesn't mathematically correspond to 100% rate, so, there has been an adjustment on the ABC1s which was reported to be 71%,, new value assigned 70%_."
   ]
  },
  {
   "cell_type": "code",
   "execution_count": 46,
   "metadata": {},
   "outputs": [],
   "source": [
    "# Socio-Economic Class : SEC\n",
    "\n",
    "SEC = (\"ABC1s\", \"C2DEs\", \"Farmers\")\n",
    "p = (0.70, 0.29, 0.01)\n",
    "\n",
    "SEC = rng.choice(SEC, size = 3600, p = p)\n"
   ]
  },
  {
   "cell_type": "markdown",
   "metadata": {},
   "source": [
    "### Generating The Data Frame"
   ]
  },
  {
   "cell_type": "code",
   "execution_count": null,
   "metadata": {},
   "outputs": [],
   "source": []
  },
  {
   "cell_type": "code",
   "execution_count": 47,
   "metadata": {},
   "outputs": [],
   "source": [
    "df = pd.DataFrame({\"DateTime\" : DateTime, \"Gender\" : Gender, \"Age\" : Age, \"CoR\" : CoR, \"SEC\" : SEC})"
   ]
  },
  {
   "cell_type": "code",
   "execution_count": 48,
   "metadata": {},
   "outputs": [
    {
     "data": {
      "text/html": [
       "<div>\n",
       "<style scoped>\n",
       "    .dataframe tbody tr th:only-of-type {\n",
       "        vertical-align: middle;\n",
       "    }\n",
       "\n",
       "    .dataframe tbody tr th {\n",
       "        vertical-align: top;\n",
       "    }\n",
       "\n",
       "    .dataframe thead th {\n",
       "        text-align: right;\n",
       "    }\n",
       "</style>\n",
       "<table border=\"1\" class=\"dataframe\">\n",
       "  <thead>\n",
       "    <tr style=\"text-align: right;\">\n",
       "      <th></th>\n",
       "      <th>DateTime</th>\n",
       "      <th>Gender</th>\n",
       "      <th>Age</th>\n",
       "      <th>CoR</th>\n",
       "      <th>SEC</th>\n",
       "    </tr>\n",
       "  </thead>\n",
       "  <tbody>\n",
       "    <tr>\n",
       "      <th>0</th>\n",
       "      <td>2018-11-06 00:00:00</td>\n",
       "      <td>female</td>\n",
       "      <td>25-49</td>\n",
       "      <td>UK/NI</td>\n",
       "      <td>ABC1s</td>\n",
       "    </tr>\n",
       "    <tr>\n",
       "      <th>1</th>\n",
       "      <td>2018-11-06 00:00:01</td>\n",
       "      <td>male</td>\n",
       "      <td>25-49</td>\n",
       "      <td>IE</td>\n",
       "      <td>ABC1s</td>\n",
       "    </tr>\n",
       "    <tr>\n",
       "      <th>2</th>\n",
       "      <td>2018-11-06 00:00:02</td>\n",
       "      <td>female</td>\n",
       "      <td>25-49</td>\n",
       "      <td>IE</td>\n",
       "      <td>ABC1s</td>\n",
       "    </tr>\n",
       "    <tr>\n",
       "      <th>3</th>\n",
       "      <td>2018-11-06 00:00:03</td>\n",
       "      <td>male</td>\n",
       "      <td>25-49</td>\n",
       "      <td>IE</td>\n",
       "      <td>ABC1s</td>\n",
       "    </tr>\n",
       "    <tr>\n",
       "      <th>4</th>\n",
       "      <td>2018-11-06 00:00:04</td>\n",
       "      <td>male</td>\n",
       "      <td>25-49</td>\n",
       "      <td>IE</td>\n",
       "      <td>ABC1s</td>\n",
       "    </tr>\n",
       "    <tr>\n",
       "      <th>...</th>\n",
       "      <td>...</td>\n",
       "      <td>...</td>\n",
       "      <td>...</td>\n",
       "      <td>...</td>\n",
       "      <td>...</td>\n",
       "    </tr>\n",
       "    <tr>\n",
       "      <th>3595</th>\n",
       "      <td>2018-11-06 00:59:55</td>\n",
       "      <td>female</td>\n",
       "      <td>&gt; 50</td>\n",
       "      <td>IE</td>\n",
       "      <td>ABC1s</td>\n",
       "    </tr>\n",
       "    <tr>\n",
       "      <th>3596</th>\n",
       "      <td>2018-11-06 00:59:56</td>\n",
       "      <td>male</td>\n",
       "      <td>&lt; 25</td>\n",
       "      <td>IE</td>\n",
       "      <td>C2DEs</td>\n",
       "    </tr>\n",
       "    <tr>\n",
       "      <th>3597</th>\n",
       "      <td>2018-11-06 00:59:57</td>\n",
       "      <td>female</td>\n",
       "      <td>25-49</td>\n",
       "      <td>EUP</td>\n",
       "      <td>C2DEs</td>\n",
       "    </tr>\n",
       "    <tr>\n",
       "      <th>3598</th>\n",
       "      <td>2018-11-06 00:59:58</td>\n",
       "      <td>female</td>\n",
       "      <td>25-49</td>\n",
       "      <td>EUP</td>\n",
       "      <td>ABC1s</td>\n",
       "    </tr>\n",
       "    <tr>\n",
       "      <th>3599</th>\n",
       "      <td>2018-11-06 00:59:59</td>\n",
       "      <td>male</td>\n",
       "      <td>25-49</td>\n",
       "      <td>IE</td>\n",
       "      <td>C2DEs</td>\n",
       "    </tr>\n",
       "  </tbody>\n",
       "</table>\n",
       "<p>3600 rows × 5 columns</p>\n",
       "</div>"
      ],
      "text/plain": [
       "                DateTime  Gender    Age    CoR    SEC\n",
       "0    2018-11-06 00:00:00  female  25-49  UK/NI  ABC1s\n",
       "1    2018-11-06 00:00:01    male  25-49     IE  ABC1s\n",
       "2    2018-11-06 00:00:02  female  25-49     IE  ABC1s\n",
       "3    2018-11-06 00:00:03    male  25-49     IE  ABC1s\n",
       "4    2018-11-06 00:00:04    male  25-49     IE  ABC1s\n",
       "...                  ...     ...    ...    ...    ...\n",
       "3595 2018-11-06 00:59:55  female   > 50     IE  ABC1s\n",
       "3596 2018-11-06 00:59:56    male   < 25     IE  C2DEs\n",
       "3597 2018-11-06 00:59:57  female  25-49    EUP  C2DEs\n",
       "3598 2018-11-06 00:59:58  female  25-49    EUP  ABC1s\n",
       "3599 2018-11-06 00:59:59    male  25-49     IE  C2DEs\n",
       "\n",
       "[3600 rows x 5 columns]"
      ]
     },
     "execution_count": 48,
     "metadata": {},
     "output_type": "execute_result"
    }
   ],
   "source": [
    "df"
   ]
  },
  {
   "cell_type": "code",
   "execution_count": 18,
   "metadata": {
    "scrolled": true
   },
   "outputs": [
    {
     "data": {
      "text/html": [
       "<div>\n",
       "<style scoped>\n",
       "    .dataframe tbody tr th:only-of-type {\n",
       "        vertical-align: middle;\n",
       "    }\n",
       "\n",
       "    .dataframe tbody tr th {\n",
       "        vertical-align: top;\n",
       "    }\n",
       "\n",
       "    .dataframe thead th {\n",
       "        text-align: right;\n",
       "    }\n",
       "</style>\n",
       "<table border=\"1\" class=\"dataframe\">\n",
       "  <thead>\n",
       "    <tr style=\"text-align: right;\">\n",
       "      <th></th>\n",
       "      <th>0</th>\n",
       "      <th>1</th>\n",
       "      <th>2</th>\n",
       "      <th>3</th>\n",
       "      <th>4</th>\n",
       "      <th>5</th>\n",
       "      <th>6</th>\n",
       "      <th>7</th>\n",
       "      <th>8</th>\n",
       "      <th>9</th>\n",
       "      <th>...</th>\n",
       "      <th>3590</th>\n",
       "      <th>3591</th>\n",
       "      <th>3592</th>\n",
       "      <th>3593</th>\n",
       "      <th>3594</th>\n",
       "      <th>3595</th>\n",
       "      <th>3596</th>\n",
       "      <th>3597</th>\n",
       "      <th>3598</th>\n",
       "      <th>3599</th>\n",
       "    </tr>\n",
       "  </thead>\n",
       "  <tbody>\n",
       "    <tr>\n",
       "      <th>DateTime</th>\n",
       "      <td>2018-11-06 00:00:00</td>\n",
       "      <td>2018-11-06 00:00:01</td>\n",
       "      <td>2018-11-06 00:00:02</td>\n",
       "      <td>2018-11-06 00:00:03</td>\n",
       "      <td>2018-11-06 00:00:04</td>\n",
       "      <td>2018-11-06 00:00:05</td>\n",
       "      <td>2018-11-06 00:00:06</td>\n",
       "      <td>2018-11-06 00:00:07</td>\n",
       "      <td>2018-11-06 00:00:08</td>\n",
       "      <td>2018-11-06 00:00:09</td>\n",
       "      <td>...</td>\n",
       "      <td>2018-11-06 00:59:50</td>\n",
       "      <td>2018-11-06 00:59:51</td>\n",
       "      <td>2018-11-06 00:59:52</td>\n",
       "      <td>2018-11-06 00:59:53</td>\n",
       "      <td>2018-11-06 00:59:54</td>\n",
       "      <td>2018-11-06 00:59:55</td>\n",
       "      <td>2018-11-06 00:59:56</td>\n",
       "      <td>2018-11-06 00:59:57</td>\n",
       "      <td>2018-11-06 00:59:58</td>\n",
       "      <td>2018-11-06 00:59:59</td>\n",
       "    </tr>\n",
       "    <tr>\n",
       "      <th>Gender</th>\n",
       "      <td>female</td>\n",
       "      <td>male</td>\n",
       "      <td>female</td>\n",
       "      <td>male</td>\n",
       "      <td>male</td>\n",
       "      <td>female</td>\n",
       "      <td>male</td>\n",
       "      <td>female</td>\n",
       "      <td>female</td>\n",
       "      <td>female</td>\n",
       "      <td>...</td>\n",
       "      <td>male</td>\n",
       "      <td>female</td>\n",
       "      <td>female</td>\n",
       "      <td>female</td>\n",
       "      <td>female</td>\n",
       "      <td>female</td>\n",
       "      <td>male</td>\n",
       "      <td>female</td>\n",
       "      <td>female</td>\n",
       "      <td>male</td>\n",
       "    </tr>\n",
       "    <tr>\n",
       "      <th>Age</th>\n",
       "      <td>25-49</td>\n",
       "      <td>older_than_50</td>\n",
       "      <td>25-49</td>\n",
       "      <td>older_than_50</td>\n",
       "      <td>25-49</td>\n",
       "      <td>25-49</td>\n",
       "      <td>older_than_50</td>\n",
       "      <td>25-49</td>\n",
       "      <td>older_than_50</td>\n",
       "      <td>under_25</td>\n",
       "      <td>...</td>\n",
       "      <td>25-49</td>\n",
       "      <td>under_25</td>\n",
       "      <td>25-49</td>\n",
       "      <td>25-49</td>\n",
       "      <td>under_25</td>\n",
       "      <td>older_than_50</td>\n",
       "      <td>25-49</td>\n",
       "      <td>25-49</td>\n",
       "      <td>older_than_50</td>\n",
       "      <td>25-49</td>\n",
       "    </tr>\n",
       "    <tr>\n",
       "      <th>CoR</th>\n",
       "      <td>IE</td>\n",
       "      <td>EUP</td>\n",
       "      <td>EUP</td>\n",
       "      <td>UK/NI</td>\n",
       "      <td>IE</td>\n",
       "      <td>IE</td>\n",
       "      <td>IE</td>\n",
       "      <td>N-AMR</td>\n",
       "      <td>IE</td>\n",
       "      <td>IE</td>\n",
       "      <td>...</td>\n",
       "      <td>IE</td>\n",
       "      <td>EUP</td>\n",
       "      <td>IE</td>\n",
       "      <td>N-AMR</td>\n",
       "      <td>IE</td>\n",
       "      <td>UK/NI</td>\n",
       "      <td>N-AMR</td>\n",
       "      <td>IE</td>\n",
       "      <td>IE</td>\n",
       "      <td>IE</td>\n",
       "    </tr>\n",
       "    <tr>\n",
       "      <th>SEC</th>\n",
       "      <td>ABC1s</td>\n",
       "      <td>ABC1s</td>\n",
       "      <td>C2DEs</td>\n",
       "      <td>ABC1s</td>\n",
       "      <td>ABC1s</td>\n",
       "      <td>C2DEs</td>\n",
       "      <td>C2DEs</td>\n",
       "      <td>ABC1s</td>\n",
       "      <td>Farmers</td>\n",
       "      <td>ABC1s</td>\n",
       "      <td>...</td>\n",
       "      <td>ABC1s</td>\n",
       "      <td>C2DEs</td>\n",
       "      <td>C2DEs</td>\n",
       "      <td>C2DEs</td>\n",
       "      <td>ABC1s</td>\n",
       "      <td>ABC1s</td>\n",
       "      <td>ABC1s</td>\n",
       "      <td>ABC1s</td>\n",
       "      <td>ABC1s</td>\n",
       "      <td>C2DEs</td>\n",
       "    </tr>\n",
       "  </tbody>\n",
       "</table>\n",
       "<p>5 rows × 3600 columns</p>\n",
       "</div>"
      ],
      "text/plain": [
       "                         0                    1                    2     \\\n",
       "DateTime  2018-11-06 00:00:00  2018-11-06 00:00:01  2018-11-06 00:00:02   \n",
       "Gender                 female                 male               female   \n",
       "Age                     25-49        older_than_50                25-49   \n",
       "CoR                        IE                  EUP                  EUP   \n",
       "SEC                     ABC1s                ABC1s                C2DEs   \n",
       "\n",
       "                         3                    4                    5     \\\n",
       "DateTime  2018-11-06 00:00:03  2018-11-06 00:00:04  2018-11-06 00:00:05   \n",
       "Gender                   male                 male               female   \n",
       "Age             older_than_50                25-49                25-49   \n",
       "CoR                     UK/NI                   IE                   IE   \n",
       "SEC                     ABC1s                ABC1s                C2DEs   \n",
       "\n",
       "                         6                    7                    8     \\\n",
       "DateTime  2018-11-06 00:00:06  2018-11-06 00:00:07  2018-11-06 00:00:08   \n",
       "Gender                   male               female               female   \n",
       "Age             older_than_50                25-49        older_than_50   \n",
       "CoR                        IE                N-AMR                   IE   \n",
       "SEC                     C2DEs                ABC1s              Farmers   \n",
       "\n",
       "                         9     ...                 3590                 3591  \\\n",
       "DateTime  2018-11-06 00:00:09  ...  2018-11-06 00:59:50  2018-11-06 00:59:51   \n",
       "Gender                 female  ...                 male               female   \n",
       "Age                  under_25  ...                25-49             under_25   \n",
       "CoR                        IE  ...                   IE                  EUP   \n",
       "SEC                     ABC1s  ...                ABC1s                C2DEs   \n",
       "\n",
       "                         3592                 3593                 3594  \\\n",
       "DateTime  2018-11-06 00:59:52  2018-11-06 00:59:53  2018-11-06 00:59:54   \n",
       "Gender                 female               female               female   \n",
       "Age                     25-49                25-49             under_25   \n",
       "CoR                        IE                N-AMR                   IE   \n",
       "SEC                     C2DEs                C2DEs                ABC1s   \n",
       "\n",
       "                         3595                 3596                 3597  \\\n",
       "DateTime  2018-11-06 00:59:55  2018-11-06 00:59:56  2018-11-06 00:59:57   \n",
       "Gender                 female                 male               female   \n",
       "Age             older_than_50                25-49                25-49   \n",
       "CoR                     UK/NI                N-AMR                   IE   \n",
       "SEC                     ABC1s                ABC1s                ABC1s   \n",
       "\n",
       "                         3598                 3599  \n",
       "DateTime  2018-11-06 00:59:58  2018-11-06 00:59:59  \n",
       "Gender                 female                 male  \n",
       "Age             older_than_50                25-49  \n",
       "CoR                        IE                   IE  \n",
       "SEC                     ABC1s                C2DEs  \n",
       "\n",
       "[5 rows x 3600 columns]"
      ]
     },
     "execution_count": 18,
     "metadata": {},
     "output_type": "execute_result"
    }
   ],
   "source": [
    "df.transpose()"
   ]
  },
  {
   "cell_type": "code",
   "execution_count": 19,
   "metadata": {},
   "outputs": [
    {
     "data": {
      "text/html": [
       "<div>\n",
       "<style scoped>\n",
       "    .dataframe tbody tr th:only-of-type {\n",
       "        vertical-align: middle;\n",
       "    }\n",
       "\n",
       "    .dataframe tbody tr th {\n",
       "        vertical-align: top;\n",
       "    }\n",
       "\n",
       "    .dataframe thead th {\n",
       "        text-align: right;\n",
       "    }\n",
       "</style>\n",
       "<table border=\"1\" class=\"dataframe\">\n",
       "  <thead>\n",
       "    <tr style=\"text-align: right;\">\n",
       "      <th></th>\n",
       "      <th>DateTime</th>\n",
       "      <th>Gender</th>\n",
       "      <th>Age</th>\n",
       "      <th>CoR</th>\n",
       "      <th>SEC</th>\n",
       "    </tr>\n",
       "  </thead>\n",
       "  <tbody>\n",
       "    <tr>\n",
       "      <th>0</th>\n",
       "      <td>2018-11-06 00:00:00</td>\n",
       "      <td>female</td>\n",
       "      <td>25-49</td>\n",
       "      <td>IE</td>\n",
       "      <td>ABC1s</td>\n",
       "    </tr>\n",
       "    <tr>\n",
       "      <th>1</th>\n",
       "      <td>2018-11-06 00:00:01</td>\n",
       "      <td>male</td>\n",
       "      <td>older_than_50</td>\n",
       "      <td>EUP</td>\n",
       "      <td>ABC1s</td>\n",
       "    </tr>\n",
       "    <tr>\n",
       "      <th>2</th>\n",
       "      <td>2018-11-06 00:00:02</td>\n",
       "      <td>female</td>\n",
       "      <td>25-49</td>\n",
       "      <td>EUP</td>\n",
       "      <td>C2DEs</td>\n",
       "    </tr>\n",
       "    <tr>\n",
       "      <th>3</th>\n",
       "      <td>2018-11-06 00:00:03</td>\n",
       "      <td>male</td>\n",
       "      <td>older_than_50</td>\n",
       "      <td>UK/NI</td>\n",
       "      <td>ABC1s</td>\n",
       "    </tr>\n",
       "    <tr>\n",
       "      <th>4</th>\n",
       "      <td>2018-11-06 00:00:04</td>\n",
       "      <td>male</td>\n",
       "      <td>25-49</td>\n",
       "      <td>IE</td>\n",
       "      <td>ABC1s</td>\n",
       "    </tr>\n",
       "  </tbody>\n",
       "</table>\n",
       "</div>"
      ],
      "text/plain": [
       "             DateTime  Gender            Age    CoR    SEC\n",
       "0 2018-11-06 00:00:00  female          25-49     IE  ABC1s\n",
       "1 2018-11-06 00:00:01    male  older_than_50    EUP  ABC1s\n",
       "2 2018-11-06 00:00:02  female          25-49    EUP  C2DEs\n",
       "3 2018-11-06 00:00:03    male  older_than_50  UK/NI  ABC1s\n",
       "4 2018-11-06 00:00:04    male          25-49     IE  ABC1s"
      ]
     },
     "execution_count": 19,
     "metadata": {},
     "output_type": "execute_result"
    }
   ],
   "source": [
    "df.head()"
   ]
  },
  {
   "cell_type": "code",
   "execution_count": 20,
   "metadata": {},
   "outputs": [
    {
     "data": {
      "text/html": [
       "<div>\n",
       "<style scoped>\n",
       "    .dataframe tbody tr th:only-of-type {\n",
       "        vertical-align: middle;\n",
       "    }\n",
       "\n",
       "    .dataframe tbody tr th {\n",
       "        vertical-align: top;\n",
       "    }\n",
       "\n",
       "    .dataframe thead th {\n",
       "        text-align: right;\n",
       "    }\n",
       "</style>\n",
       "<table border=\"1\" class=\"dataframe\">\n",
       "  <thead>\n",
       "    <tr style=\"text-align: right;\">\n",
       "      <th></th>\n",
       "      <th>DateTime</th>\n",
       "      <th>Gender</th>\n",
       "      <th>Age</th>\n",
       "      <th>CoR</th>\n",
       "      <th>SEC</th>\n",
       "    </tr>\n",
       "  </thead>\n",
       "  <tbody>\n",
       "    <tr>\n",
       "      <th>count</th>\n",
       "      <td>3600</td>\n",
       "      <td>3600</td>\n",
       "      <td>3600</td>\n",
       "      <td>3600</td>\n",
       "      <td>3600</td>\n",
       "    </tr>\n",
       "    <tr>\n",
       "      <th>unique</th>\n",
       "      <td>3600</td>\n",
       "      <td>2</td>\n",
       "      <td>3</td>\n",
       "      <td>5</td>\n",
       "      <td>3</td>\n",
       "    </tr>\n",
       "    <tr>\n",
       "      <th>top</th>\n",
       "      <td>2018-11-06 00:02:00</td>\n",
       "      <td>male</td>\n",
       "      <td>25-49</td>\n",
       "      <td>IE</td>\n",
       "      <td>ABC1s</td>\n",
       "    </tr>\n",
       "    <tr>\n",
       "      <th>freq</th>\n",
       "      <td>1</td>\n",
       "      <td>1837</td>\n",
       "      <td>2077</td>\n",
       "      <td>1692</td>\n",
       "      <td>2495</td>\n",
       "    </tr>\n",
       "    <tr>\n",
       "      <th>first</th>\n",
       "      <td>2018-11-06 00:00:00</td>\n",
       "      <td>NaN</td>\n",
       "      <td>NaN</td>\n",
       "      <td>NaN</td>\n",
       "      <td>NaN</td>\n",
       "    </tr>\n",
       "    <tr>\n",
       "      <th>last</th>\n",
       "      <td>2018-11-06 00:59:59</td>\n",
       "      <td>NaN</td>\n",
       "      <td>NaN</td>\n",
       "      <td>NaN</td>\n",
       "      <td>NaN</td>\n",
       "    </tr>\n",
       "  </tbody>\n",
       "</table>\n",
       "</div>"
      ],
      "text/plain": [
       "                   DateTime Gender    Age   CoR    SEC\n",
       "count                  3600   3600   3600  3600   3600\n",
       "unique                 3600      2      3     5      3\n",
       "top     2018-11-06 00:02:00   male  25-49    IE  ABC1s\n",
       "freq                      1   1837   2077  1692   2495\n",
       "first   2018-11-06 00:00:00    NaN    NaN   NaN    NaN\n",
       "last    2018-11-06 00:59:59    NaN    NaN   NaN    NaN"
      ]
     },
     "execution_count": 20,
     "metadata": {},
     "output_type": "execute_result"
    }
   ],
   "source": [
    "df.describe()"
   ]
  },
  {
   "cell_type": "code",
   "execution_count": 21,
   "metadata": {},
   "outputs": [
    {
     "data": {
      "text/plain": [
       "<bound method DataFrame.mean of                 DateTime  Gender            Age    CoR    SEC\n",
       "0    2018-11-06 00:00:00  female          25-49     IE  ABC1s\n",
       "1    2018-11-06 00:00:01    male  older_than_50    EUP  ABC1s\n",
       "2    2018-11-06 00:00:02  female          25-49    EUP  C2DEs\n",
       "3    2018-11-06 00:00:03    male  older_than_50  UK/NI  ABC1s\n",
       "4    2018-11-06 00:00:04    male          25-49     IE  ABC1s\n",
       "...                  ...     ...            ...    ...    ...\n",
       "3595 2018-11-06 00:59:55  female  older_than_50  UK/NI  ABC1s\n",
       "3596 2018-11-06 00:59:56    male          25-49  N-AMR  ABC1s\n",
       "3597 2018-11-06 00:59:57  female          25-49     IE  ABC1s\n",
       "3598 2018-11-06 00:59:58  female  older_than_50     IE  ABC1s\n",
       "3599 2018-11-06 00:59:59    male          25-49     IE  C2DEs\n",
       "\n",
       "[3600 rows x 5 columns]>"
      ]
     },
     "execution_count": 21,
     "metadata": {},
     "output_type": "execute_result"
    }
   ],
   "source": [
    "df.mean"
   ]
  },
  {
   "cell_type": "markdown",
   "metadata": {},
   "source": [
    "## References:\n",
    "\n",
    "[1] Dublin Airport; Facts and Figures: https://www.dublinairport.com/corporate/about-us/facts-and-figures\n",
    "\n",
    "[2] Dublin Airport; Passenger Profile: https://www.dublinairport.com/corporate/about-us/passenger-profile\n",
    "\n",
    "[3] caktusgroup: https://www.caktusgroup.com/blog/2020/04/15/quick-guide-generating-fake-data-with-pandas/\n"
   ]
  },
  {
   "cell_type": "code",
   "execution_count": null,
   "metadata": {},
   "outputs": [],
   "source": []
  }
 ],
 "metadata": {
  "kernelspec": {
   "display_name": "Python 3",
   "language": "python",
   "name": "python3"
  },
  "language_info": {
   "codemirror_mode": {
    "name": "ipython",
    "version": 3
   },
   "file_extension": ".py",
   "mimetype": "text/x-python",
   "name": "python",
   "nbconvert_exporter": "python",
   "pygments_lexer": "ipython3",
   "version": "3.8.3"
  }
 },
 "nbformat": 4,
 "nbformat_minor": 4
}
