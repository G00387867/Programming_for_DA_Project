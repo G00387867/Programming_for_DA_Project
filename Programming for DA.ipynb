{
 "cells": [
  {
   "cell_type": "markdown",
   "metadata": {},
   "source": [
    "# Programming for Data Analysis Project"
   ]
  },
  {
   "cell_type": "markdown",
   "metadata": {},
   "source": [
    "**Problem statement**\n",
    "\n",
    "create a data set by simulating a real-world phenomenon. Then,  model and synthesise data using Python by using\n",
    "the `numpy.random` package.\n",
    "\n",
    "**Guidelines**:\n",
    "    \n",
    "• Choose a real-world phenomenon that can be measured and for which you could\n",
    "collect at least one-hundred data points across at least four different variables.\n",
    "\n",
    "• Investigate the types of variables involved, their likely distributions, and their\n",
    "relationships with each other.\n",
    "\n",
    "• Synthesise/simulate a data set as closely matching their properties as possible.\n",
    "\n",
    "• Detail your research and implement the simulation in a Jupyter notebook – them\n",
    "data set itself can simply be displayed in an output cell within the notebook.\n"
   ]
  },
  {
   "cell_type": "markdown",
   "metadata": {},
   "source": [
    "## Simulating Dublin Airport Passenger Movements in 2018"
   ]
  },
  {
   "cell_type": "markdown",
   "metadata": {},
   "source": [
    "Dublin airport is the main airport in the Republic of Ireland. It was established 80 years ago. Dublin Airport officially opened at 9:00am on January 19, 1940. It was a cold Friday morning when the inaugural flight - an Aer Lingus Lockheed 14 bound for Liverpool - departed from Collinstown Airport, as it was then known.\n",
    "\n",
    "In this assignment, I will analyse some profile of passengers that were using the airport in 2018 within one hour time frame.\n",
    "\n",
    "Number of passengers per year: 31.5 million in 2018 [1]\n",
    "\n",
    "Average hourly passengers calculated by dividing 31.5 (million) / 364 (days, closed for Chrismas day) which gives us 86,5 (Thousands) passengers daily on average.\n",
    "\n",
    "Hourly Passenger Rate = 31.5 (millions) / 364 (days, closed for Chrismas day)  / 24 (hours).\n",
    "\n",
    "Hourly Passenger Rate = 3605 \n",
    "\n",
    "So, we can anticipate that nearly a __one passenger each second__ was using the airport\n",
    "\n",
    "We can anticipate that there was one passenger using the airport each second."
   ]
  },
  {
   "cell_type": "markdown",
   "metadata": {},
   "source": [
    "## Importing Packages:"
   ]
  },
  {
   "cell_type": "code",
   "execution_count": 1,
   "metadata": {},
   "outputs": [],
   "source": [
    "# importing numerical library\n",
    "import numpy as np\n",
    "\n",
    "rng = np.random.default_rng()\n",
    "\n",
    "# importing library to generate data frames\n",
    "import pandas as pd\n",
    "\n",
    "# importing libraries for visualisation\n",
    "import matplotlib.pyplot as plt\n",
    "import seaborn as sns\n",
    "\n",
    "# for interactive and inline rendered plots, we use the magic command\n",
    "%matplotlib inline\n",
    "\n",
    "# Better sized plots.\n",
    "plt.rcParams['figure.figsize'] = (16, 10)\n",
    "\n",
    "# Nicer colours and styles for plots.\n",
    "plt.style.use(\"ggplot\")"
   ]
  },
  {
   "cell_type": "markdown",
   "metadata": {},
   "source": [
    "### *DateTime* :"
   ]
  },
  {
   "cell_type": "markdown",
   "metadata": {},
   "source": [
    "Generating a random array with `3600 seconds` that represents a time period of an hour in 2018."
   ]
  },
  {
   "cell_type": "code",
   "execution_count": 2,
   "metadata": {},
   "outputs": [],
   "source": [
    "# https://pandas.pydata.org/docs/user_guide/timeseries.html#timeseries\n",
    "# importing datetime function from pandas\n",
    "import datetime\n",
    "\n",
    "# PCG64\n",
    "rng = np.random.default_rng()\n",
    "\n",
    "# adapted from https://stackoverflow.com/questions/50559078/generating-random-dates-within-a-given-range-in-pandas[3].\n",
    "\n",
    "try:\n",
    "    def random_dates(start, end, n=3600):\n",
    "        start_u = start.value//10**9\n",
    "        end_u = end.value//10**9         \n",
    "        return pd.to_datetime(rng.integers(start_u, end_u, n), unit='s')\n",
    "except Christmas:\n",
    "    print(\"This is Christmas day, The Airport was closed!, Please try again\")\n",
    "\n",
    "Christmas = (2018-12-25)    \n",
    "    \n",
    "start = pd.to_datetime(\"2018-01-01\")\n",
    "end = pd.to_datetime(\"2018-12-31\")\n",
    "\n",
    "DateTime = random_dates(start, end)"
   ]
  },
  {
   "cell_type": "code",
   "execution_count": 3,
   "metadata": {},
   "outputs": [
    {
     "data": {
      "text/plain": [
       "DatetimeIndex(['2018-02-28 18:28:34', '2018-10-05 08:44:33',\n",
       "               '2018-06-29 00:50:32', '2018-02-06 07:31:55',\n",
       "               '2018-04-16 00:09:59', '2018-06-21 14:23:52',\n",
       "               '2018-11-06 13:47:04', '2018-04-24 02:21:45',\n",
       "               '2018-01-18 07:40:20', '2018-12-02 04:44:30',\n",
       "               ...\n",
       "               '2018-08-03 20:15:59', '2018-12-25 07:31:34',\n",
       "               '2018-09-09 23:53:17', '2018-05-02 20:53:58',\n",
       "               '2018-02-06 10:05:28', '2018-08-15 03:11:52',\n",
       "               '2018-07-22 23:24:01', '2018-05-17 16:08:03',\n",
       "               '2018-08-03 08:03:45', '2018-06-27 04:36:51'],\n",
       "              dtype='datetime64[ns]', length=3600, freq=None)"
      ]
     },
     "execution_count": 3,
     "metadata": {},
     "output_type": "execute_result"
    }
   ],
   "source": [
    "DateTime"
   ]
  },
  {
   "cell_type": "code",
   "execution_count": 26,
   "metadata": {},
   "outputs": [
    {
     "data": {
      "text/plain": [
       "DatetimeIndex(['2018-02-28 18:28:34', '2018-10-05 08:44:33',\n",
       "               '2018-06-29 00:50:32', '2018-02-06 07:31:55',\n",
       "               '2018-04-16 00:09:59', '2018-06-21 14:23:52',\n",
       "               '2018-11-06 13:47:04', '2018-04-24 02:21:45',\n",
       "               '2018-01-18 07:40:20', '2018-12-02 04:44:30',\n",
       "               ...\n",
       "               '2018-08-03 20:15:59', '2018-12-25 07:31:34',\n",
       "               '2018-09-09 23:53:17', '2018-05-02 20:53:58',\n",
       "               '2018-02-06 10:05:28', '2018-08-15 03:11:52',\n",
       "               '2018-07-22 23:24:01', '2018-05-17 16:08:03',\n",
       "               '2018-08-03 08:03:45', '2018-06-27 04:36:51'],\n",
       "              dtype='datetime64[ns]', length=3600, freq=None)"
      ]
     },
     "execution_count": 26,
     "metadata": {},
     "output_type": "execute_result"
    }
   ],
   "source": [
    "DateTime"
   ]
  },
  {
   "cell_type": "code",
   "execution_count": 5,
   "metadata": {},
   "outputs": [
    {
     "data": {
      "text/plain": [
       "Text(0.5, 1.0, 'A Uniform Distribution resembling number of passengers movement')"
      ]
     },
     "execution_count": 5,
     "metadata": {},
     "output_type": "execute_result"
    },
    {
     "data": {
      "image/png": "[encoded data removed]",
      "text/plain": [
       "<Figure size 1152x720 with 1 Axes>"
      ]
     },
     "metadata": {},
     "output_type": "display_data"
    }
   ],
   "source": [
    "plt.hist(DateTime)\n",
    "plt.xlabel(\"Date Range\")\n",
    "plt.ylabel(\"Number of Passengers\")\n",
    "plt.title(\"A Uniform Distribution resembling number of passengers movement\")"
   ]
  },
  {
   "cell_type": "markdown",
   "metadata": {},
   "source": [
    "***\n",
    "<br>\n",
    "\n",
    "### *Gender* :\n",
    "\n",
    "Representaion of gender of the passengers as was reported[2]:\n",
    "\n",
    "- __51% Male__\n",
    "\n",
    "- __49% Female__\n"
   ]
  },
  {
   "cell_type": "code",
   "execution_count": 6,
   "metadata": {},
   "outputs": [],
   "source": [
    "genders = (\"male\", \"female\")\n",
    "\n",
    "p = (0.51, 0.49)\n",
    "\n",
    "Gender = rng.choice(genders, size = 3600, p = p)"
   ]
  },
  {
   "cell_type": "code",
   "execution_count": 7,
   "metadata": {
    "scrolled": true
   },
   "outputs": [
    {
     "name": "stdout",
     "output_type": "stream",
     "text": [
      "Gender Array is: ['male' 'male' 'female' ... 'female' 'male' 'female']\n"
     ]
    }
   ],
   "source": [
    "print(\"Gender Array is:\", Gender)"
   ]
  },
  {
   "cell_type": "code",
   "execution_count": 8,
   "metadata": {},
   "outputs": [
    {
     "data": {
      "text/plain": [
       "Text(0.5, 1.0, 'Representation of Gender')"
      ]
     },
     "execution_count": 8,
     "metadata": {},
     "output_type": "execute_result"
    },
    {
     "data": {
      "image/png": "[encoded data removed]",
      "text/plain": [
       "<Figure size 1152x720 with 1 Axes>"
      ]
     },
     "metadata": {},
     "output_type": "display_data"
    }
   ],
   "source": [
    "plt.hist(Gender)\n",
    "plt.xlabel(\"Gender\")\n",
    "plt.ylabel(\"Count\")\n",
    "plt.title(\"Representation of Gender\")"
   ]
  },
  {
   "cell_type": "markdown",
   "metadata": {},
   "source": [
    "***\n",
    "<br>\n",
    "\n",
    "### *Age* :\n",
    "\n",
    "People of all ages pass through our doors here at Dublin Airport.\n",
    "\n",
    "- __15%__ of our passengers are __`< 25`__\n",
    "\n",
    "- __54%__ are between the ages of __`25-49`__\n",
    "\n",
    "- __30%__ are aged 50 or older __`> 50`__ [2]\n",
    "\n",
    "_Note: The total percentage doesn't mathematically correspond to 100% rate, so, there has been an adjustment on 25-49 age group which was reported to be 54%, new value assigned 55%_."
   ]
  },
  {
   "cell_type": "code",
   "execution_count": 9,
   "metadata": {},
   "outputs": [
    {
     "name": "stdout",
     "output_type": "stream",
     "text": [
      "Age Array is: ['< 25' '< 25' '> 50' ... '> 50' '> 50' '< 25']\n"
     ]
    }
   ],
   "source": [
    "age_ranges = (\"< 25\", \"25-49\", \"> 50\")\n",
    "\n",
    "p = (0.15, 0.55, 0.30)\n",
    "\n",
    "Age = rng.choice(age_ranges, size = 3600, p = p)\n",
    "print (\"Age Array is:\", Age)"
   ]
  },
  {
   "cell_type": "code",
   "execution_count": 10,
   "metadata": {},
   "outputs": [
    {
     "data": {
      "text/plain": [
       "Text(0.5, 1.0, 'Representation of Age')"
      ]
     },
     "execution_count": 10,
     "metadata": {},
     "output_type": "execute_result"
    },
    {
     "data": {
      "image/png": "[encoded data removed]",
      "text/plain": [
       "<Figure size 1152x720 with 1 Axes>"
      ]
     },
     "metadata": {},
     "output_type": "display_data"
    }
   ],
   "source": [
    "plt.hist(Age)\n",
    "plt.xlabel(\"Age Range\")\n",
    "plt.ylabel(\"Count\")\n",
    "plt.title(\"Representation of Age\")"
   ]
  },
  {
   "cell_type": "markdown",
   "metadata": {},
   "source": [
    "***\n",
    "\n",
    "<br>\n",
    "\n",
    "### *Country of Residence* :"
   ]
  },
  {
   "cell_type": "markdown",
   "metadata": {},
   "source": [
    "#### Generating the `Country of Residence`  array\n",
    "\n",
    "\n",
    "People from all over the world visit Dublin Airport\n",
    "\n",
    "- __48%__ of our passengers call the Republic of Ireland their home __(IE)__\n",
    "\n",
    "- __18%__ arrive on our shores from the UK (including NI) __(UK / NI)__\n",
    "\n",
    "- __17%__ visit us from Continental Europe __(EUP)__\n",
    "\n",
    "- __16%__ come from North American destinations __(N-AMR)__\n",
    "\n",
    "- __1%__ come from the Rest of the World __(RoW)__ [2]"
   ]
  },
  {
   "cell_type": "code",
   "execution_count": 11,
   "metadata": {},
   "outputs": [],
   "source": [
    "# Country of Residence: CoR\n",
    "\n",
    "CoR = (\"IE\", \"UK/NI\", \"EUP\", \"N-AMR\", \"RoW\")\n",
    "p = (0.48, 0.18, 0.17, 0.16, 0.01)\n",
    "\n",
    "CoR = rng.choice(CoR, size = 3600, p = p)\n"
   ]
  },
  {
   "cell_type": "code",
   "execution_count": 12,
   "metadata": {},
   "outputs": [
    {
     "name": "stdout",
     "output_type": "stream",
     "text": [
      "Country of Risedence Array is: ['UK/NI' 'IE' 'EUP' ... 'N-AMR' 'N-AMR' 'N-AMR']\n"
     ]
    }
   ],
   "source": [
    "print (\"Country of Risedence Array is:\", CoR)"
   ]
  },
  {
   "cell_type": "code",
   "execution_count": 13,
   "metadata": {},
   "outputs": [
    {
     "data": {
      "text/plain": [
       "Text(0.5, 1.0, 'Representation of Country of Risedence')"
      ]
     },
     "execution_count": 13,
     "metadata": {},
     "output_type": "execute_result"
    },
    {
     "data": {
      "image/png": "[encoded data removed]",
      "text/plain": [
       "<Figure size 1152x720 with 1 Axes>"
      ]
     },
     "metadata": {},
     "output_type": "display_data"
    }
   ],
   "source": [
    "plt.hist(CoR)\n",
    "plt.xlabel(\"Country of Risedence\")\n",
    "plt.ylabel(\"Count\")\n",
    "plt.title(\"Representation of Country of Risedence\")"
   ]
  },
  {
   "cell_type": "markdown",
   "metadata": {},
   "source": [
    "***\n",
    "<br>\n",
    "\n",
    "### *Socio-Economic Class*:\n",
    "\n",
    "- ABC1s __71%__\n",
    "\n",
    "- C2DEs __29%__\n",
    "\n",
    "- Farmers __1%__ [2]\n",
    "\n",
    "_Note: The total percentage doesn't mathematically correspond to 100% rate, so, there has been an adjustment on the ABC1s which was reported to be 71%,, new value assigned 70%_."
   ]
  },
  {
   "cell_type": "code",
   "execution_count": 14,
   "metadata": {},
   "outputs": [],
   "source": [
    "# Socio-Economic Class : SEC\n",
    "\n",
    "SEC = (\"ABC1s\", \"C2DEs\", \"Farmers\")\n",
    "p = (0.70, 0.29, 0.01)\n",
    "\n",
    "SEC = rng.choice(SEC, size = 3600, p = p)\n"
   ]
  },
  {
   "cell_type": "code",
   "execution_count": 15,
   "metadata": {
    "scrolled": false
   },
   "outputs": [
    {
     "name": "stdout",
     "output_type": "stream",
     "text": [
      " Socio-Economic Class Array is: ['ABC1s' 'ABC1s' 'ABC1s' ... 'ABC1s' 'C2DEs' 'C2DEs']\n"
     ]
    }
   ],
   "source": [
    "print (\" Socio-Economic Class Array is:\", SEC)"
   ]
  },
  {
   "cell_type": "code",
   "execution_count": 16,
   "metadata": {},
   "outputs": [
    {
     "data": {
      "text/plain": [
       "Text(0.5, 1.0, 'Representation of Socio-Economic Class')"
      ]
     },
     "execution_count": 16,
     "metadata": {},
     "output_type": "execute_result"
    },
    {
     "data": {
      "image/png": "[encoded data removed]",
      "text/plain": [
       "<Figure size 1152x720 with 1 Axes>"
      ]
     },
     "metadata": {},
     "output_type": "display_data"
    }
   ],
   "source": [
    "plt.hist(SEC)\n",
    "plt.xlabel(\"Socio-Economic Class\")\n",
    "plt.ylabel(\"Count\")\n",
    "plt.title(\"Representation of Socio-Economic Class\")"
   ]
  },
  {
   "cell_type": "markdown",
   "metadata": {},
   "source": [
    "***\n",
    "<br>\n",
    "\n",
    "### Generating The Data Frame"
   ]
  },
  {
   "cell_type": "code",
   "execution_count": 17,
   "metadata": {},
   "outputs": [],
   "source": [
    "df = pd.DataFrame({\"DateTime\" : DateTime, \"Gender\" : Gender, \"Age\" : Age, \"CoR\" : CoR, \"SEC\" : SEC})"
   ]
  },
  {
   "cell_type": "code",
   "execution_count": 18,
   "metadata": {},
   "outputs": [
    {
     "data": {
      "text/html": [
       "<div>\n",
       "<style scoped>\n",
       "    .dataframe tbody tr th:only-of-type {\n",
       "        vertical-align: middle;\n",
       "    }\n",
       "\n",
       "    .dataframe tbody tr th {\n",
       "        vertical-align: top;\n",
       "    }\n",
       "\n",
       "    .dataframe thead th {\n",
       "        text-align: right;\n",
       "    }\n",
       "</style>\n",
       "<table border=\"1\" class=\"dataframe\">\n",
       "  <thead>\n",
       "    <tr style=\"text-align: right;\">\n",
       "      <th></th>\n",
       "      <th>DateTime</th>\n",
       "      <th>Gender</th>\n",
       "      <th>Age</th>\n",
       "      <th>CoR</th>\n",
       "      <th>SEC</th>\n",
       "    </tr>\n",
       "  </thead>\n",
       "  <tbody>\n",
       "    <tr>\n",
       "      <th>0</th>\n",
       "      <td>2018-02-28 18:28:34</td>\n",
       "      <td>male</td>\n",
       "      <td>&lt; 25</td>\n",
       "      <td>UK/NI</td>\n",
       "      <td>ABC1s</td>\n",
       "    </tr>\n",
       "    <tr>\n",
       "      <th>1</th>\n",
       "      <td>2018-10-05 08:44:33</td>\n",
       "      <td>male</td>\n",
       "      <td>&lt; 25</td>\n",
       "      <td>IE</td>\n",
       "      <td>ABC1s</td>\n",
       "    </tr>\n",
       "    <tr>\n",
       "      <th>2</th>\n",
       "      <td>2018-06-29 00:50:32</td>\n",
       "      <td>female</td>\n",
       "      <td>&gt; 50</td>\n",
       "      <td>EUP</td>\n",
       "      <td>ABC1s</td>\n",
       "    </tr>\n",
       "    <tr>\n",
       "      <th>3</th>\n",
       "      <td>2018-02-06 07:31:55</td>\n",
       "      <td>male</td>\n",
       "      <td>25-49</td>\n",
       "      <td>IE</td>\n",
       "      <td>Farmers</td>\n",
       "    </tr>\n",
       "    <tr>\n",
       "      <th>4</th>\n",
       "      <td>2018-04-16 00:09:59</td>\n",
       "      <td>male</td>\n",
       "      <td>25-49</td>\n",
       "      <td>IE</td>\n",
       "      <td>ABC1s</td>\n",
       "    </tr>\n",
       "    <tr>\n",
       "      <th>...</th>\n",
       "      <td>...</td>\n",
       "      <td>...</td>\n",
       "      <td>...</td>\n",
       "      <td>...</td>\n",
       "      <td>...</td>\n",
       "    </tr>\n",
       "    <tr>\n",
       "      <th>3595</th>\n",
       "      <td>2018-08-15 03:11:52</td>\n",
       "      <td>male</td>\n",
       "      <td>25-49</td>\n",
       "      <td>IE</td>\n",
       "      <td>ABC1s</td>\n",
       "    </tr>\n",
       "    <tr>\n",
       "      <th>3596</th>\n",
       "      <td>2018-07-22 23:24:01</td>\n",
       "      <td>male</td>\n",
       "      <td>25-49</td>\n",
       "      <td>UK/NI</td>\n",
       "      <td>C2DEs</td>\n",
       "    </tr>\n",
       "    <tr>\n",
       "      <th>3597</th>\n",
       "      <td>2018-05-17 16:08:03</td>\n",
       "      <td>female</td>\n",
       "      <td>&gt; 50</td>\n",
       "      <td>N-AMR</td>\n",
       "      <td>ABC1s</td>\n",
       "    </tr>\n",
       "    <tr>\n",
       "      <th>3598</th>\n",
       "      <td>2018-08-03 08:03:45</td>\n",
       "      <td>male</td>\n",
       "      <td>&gt; 50</td>\n",
       "      <td>N-AMR</td>\n",
       "      <td>C2DEs</td>\n",
       "    </tr>\n",
       "    <tr>\n",
       "      <th>3599</th>\n",
       "      <td>2018-06-27 04:36:51</td>\n",
       "      <td>female</td>\n",
       "      <td>&lt; 25</td>\n",
       "      <td>N-AMR</td>\n",
       "      <td>C2DEs</td>\n",
       "    </tr>\n",
       "  </tbody>\n",
       "</table>\n",
       "<p>3600 rows × 5 columns</p>\n",
       "</div>"
      ],
      "text/plain": [
       "                DateTime  Gender    Age    CoR      SEC\n",
       "0    2018-02-28 18:28:34    male   < 25  UK/NI    ABC1s\n",
       "1    2018-10-05 08:44:33    male   < 25     IE    ABC1s\n",
       "2    2018-06-29 00:50:32  female   > 50    EUP    ABC1s\n",
       "3    2018-02-06 07:31:55    male  25-49     IE  Farmers\n",
       "4    2018-04-16 00:09:59    male  25-49     IE    ABC1s\n",
       "...                  ...     ...    ...    ...      ...\n",
       "3595 2018-08-15 03:11:52    male  25-49     IE    ABC1s\n",
       "3596 2018-07-22 23:24:01    male  25-49  UK/NI    C2DEs\n",
       "3597 2018-05-17 16:08:03  female   > 50  N-AMR    ABC1s\n",
       "3598 2018-08-03 08:03:45    male   > 50  N-AMR    C2DEs\n",
       "3599 2018-06-27 04:36:51  female   < 25  N-AMR    C2DEs\n",
       "\n",
       "[3600 rows x 5 columns]"
      ]
     },
     "execution_count": 18,
     "metadata": {},
     "output_type": "execute_result"
    }
   ],
   "source": [
    "df"
   ]
  },
  {
   "cell_type": "code",
   "execution_count": 19,
   "metadata": {
    "scrolled": true
   },
   "outputs": [
    {
     "data": {
      "text/html": [
       "<div>\n",
       "<style scoped>\n",
       "    .dataframe tbody tr th:only-of-type {\n",
       "        vertical-align: middle;\n",
       "    }\n",
       "\n",
       "    .dataframe tbody tr th {\n",
       "        vertical-align: top;\n",
       "    }\n",
       "\n",
       "    .dataframe thead th {\n",
       "        text-align: right;\n",
       "    }\n",
       "</style>\n",
       "<table border=\"1\" class=\"dataframe\">\n",
       "  <thead>\n",
       "    <tr style=\"text-align: right;\">\n",
       "      <th></th>\n",
       "      <th>0</th>\n",
       "      <th>1</th>\n",
       "      <th>2</th>\n",
       "      <th>3</th>\n",
       "      <th>4</th>\n",
       "      <th>5</th>\n",
       "      <th>6</th>\n",
       "      <th>7</th>\n",
       "      <th>8</th>\n",
       "      <th>9</th>\n",
       "      <th>...</th>\n",
       "      <th>3590</th>\n",
       "      <th>3591</th>\n",
       "      <th>3592</th>\n",
       "      <th>3593</th>\n",
       "      <th>3594</th>\n",
       "      <th>3595</th>\n",
       "      <th>3596</th>\n",
       "      <th>3597</th>\n",
       "      <th>3598</th>\n",
       "      <th>3599</th>\n",
       "    </tr>\n",
       "  </thead>\n",
       "  <tbody>\n",
       "    <tr>\n",
       "      <th>DateTime</th>\n",
       "      <td>2018-02-28 18:28:34</td>\n",
       "      <td>2018-10-05 08:44:33</td>\n",
       "      <td>2018-06-29 00:50:32</td>\n",
       "      <td>2018-02-06 07:31:55</td>\n",
       "      <td>2018-04-16 00:09:59</td>\n",
       "      <td>2018-06-21 14:23:52</td>\n",
       "      <td>2018-11-06 13:47:04</td>\n",
       "      <td>2018-04-24 02:21:45</td>\n",
       "      <td>2018-01-18 07:40:20</td>\n",
       "      <td>2018-12-02 04:44:30</td>\n",
       "      <td>...</td>\n",
       "      <td>2018-08-03 20:15:59</td>\n",
       "      <td>2018-12-25 07:31:34</td>\n",
       "      <td>2018-09-09 23:53:17</td>\n",
       "      <td>2018-05-02 20:53:58</td>\n",
       "      <td>2018-02-06 10:05:28</td>\n",
       "      <td>2018-08-15 03:11:52</td>\n",
       "      <td>2018-07-22 23:24:01</td>\n",
       "      <td>2018-05-17 16:08:03</td>\n",
       "      <td>2018-08-03 08:03:45</td>\n",
       "      <td>2018-06-27 04:36:51</td>\n",
       "    </tr>\n",
       "    <tr>\n",
       "      <th>Gender</th>\n",
       "      <td>male</td>\n",
       "      <td>male</td>\n",
       "      <td>female</td>\n",
       "      <td>male</td>\n",
       "      <td>male</td>\n",
       "      <td>female</td>\n",
       "      <td>female</td>\n",
       "      <td>female</td>\n",
       "      <td>female</td>\n",
       "      <td>male</td>\n",
       "      <td>...</td>\n",
       "      <td>female</td>\n",
       "      <td>female</td>\n",
       "      <td>female</td>\n",
       "      <td>male</td>\n",
       "      <td>male</td>\n",
       "      <td>male</td>\n",
       "      <td>male</td>\n",
       "      <td>female</td>\n",
       "      <td>male</td>\n",
       "      <td>female</td>\n",
       "    </tr>\n",
       "    <tr>\n",
       "      <th>Age</th>\n",
       "      <td>&lt; 25</td>\n",
       "      <td>&lt; 25</td>\n",
       "      <td>&gt; 50</td>\n",
       "      <td>25-49</td>\n",
       "      <td>25-49</td>\n",
       "      <td>&lt; 25</td>\n",
       "      <td>25-49</td>\n",
       "      <td>25-49</td>\n",
       "      <td>25-49</td>\n",
       "      <td>25-49</td>\n",
       "      <td>...</td>\n",
       "      <td>&gt; 50</td>\n",
       "      <td>&gt; 50</td>\n",
       "      <td>&lt; 25</td>\n",
       "      <td>25-49</td>\n",
       "      <td>&gt; 50</td>\n",
       "      <td>25-49</td>\n",
       "      <td>25-49</td>\n",
       "      <td>&gt; 50</td>\n",
       "      <td>&gt; 50</td>\n",
       "      <td>&lt; 25</td>\n",
       "    </tr>\n",
       "    <tr>\n",
       "      <th>CoR</th>\n",
       "      <td>UK/NI</td>\n",
       "      <td>IE</td>\n",
       "      <td>EUP</td>\n",
       "      <td>IE</td>\n",
       "      <td>IE</td>\n",
       "      <td>UK/NI</td>\n",
       "      <td>N-AMR</td>\n",
       "      <td>EUP</td>\n",
       "      <td>IE</td>\n",
       "      <td>N-AMR</td>\n",
       "      <td>...</td>\n",
       "      <td>IE</td>\n",
       "      <td>EUP</td>\n",
       "      <td>IE</td>\n",
       "      <td>EUP</td>\n",
       "      <td>UK/NI</td>\n",
       "      <td>IE</td>\n",
       "      <td>UK/NI</td>\n",
       "      <td>N-AMR</td>\n",
       "      <td>N-AMR</td>\n",
       "      <td>N-AMR</td>\n",
       "    </tr>\n",
       "    <tr>\n",
       "      <th>SEC</th>\n",
       "      <td>ABC1s</td>\n",
       "      <td>ABC1s</td>\n",
       "      <td>ABC1s</td>\n",
       "      <td>Farmers</td>\n",
       "      <td>ABC1s</td>\n",
       "      <td>ABC1s</td>\n",
       "      <td>ABC1s</td>\n",
       "      <td>ABC1s</td>\n",
       "      <td>ABC1s</td>\n",
       "      <td>ABC1s</td>\n",
       "      <td>...</td>\n",
       "      <td>C2DEs</td>\n",
       "      <td>ABC1s</td>\n",
       "      <td>C2DEs</td>\n",
       "      <td>ABC1s</td>\n",
       "      <td>C2DEs</td>\n",
       "      <td>ABC1s</td>\n",
       "      <td>C2DEs</td>\n",
       "      <td>ABC1s</td>\n",
       "      <td>C2DEs</td>\n",
       "      <td>C2DEs</td>\n",
       "    </tr>\n",
       "  </tbody>\n",
       "</table>\n",
       "<p>5 rows × 3600 columns</p>\n",
       "</div>"
      ],
      "text/plain": [
       "                         0                    1                    2     \\\n",
       "DateTime  2018-02-28 18:28:34  2018-10-05 08:44:33  2018-06-29 00:50:32   \n",
       "Gender                   male                 male               female   \n",
       "Age                      < 25                 < 25                 > 50   \n",
       "CoR                     UK/NI                   IE                  EUP   \n",
       "SEC                     ABC1s                ABC1s                ABC1s   \n",
       "\n",
       "                         3                    4                    5     \\\n",
       "DateTime  2018-02-06 07:31:55  2018-04-16 00:09:59  2018-06-21 14:23:52   \n",
       "Gender                   male                 male               female   \n",
       "Age                     25-49                25-49                 < 25   \n",
       "CoR                        IE                   IE                UK/NI   \n",
       "SEC                   Farmers                ABC1s                ABC1s   \n",
       "\n",
       "                         6                    7                    8     \\\n",
       "DateTime  2018-11-06 13:47:04  2018-04-24 02:21:45  2018-01-18 07:40:20   \n",
       "Gender                 female               female               female   \n",
       "Age                     25-49                25-49                25-49   \n",
       "CoR                     N-AMR                  EUP                   IE   \n",
       "SEC                     ABC1s                ABC1s                ABC1s   \n",
       "\n",
       "                         9     ...                 3590                 3591  \\\n",
       "DateTime  2018-12-02 04:44:30  ...  2018-08-03 20:15:59  2018-12-25 07:31:34   \n",
       "Gender                   male  ...               female               female   \n",
       "Age                     25-49  ...                 > 50                 > 50   \n",
       "CoR                     N-AMR  ...                   IE                  EUP   \n",
       "SEC                     ABC1s  ...                C2DEs                ABC1s   \n",
       "\n",
       "                         3592                 3593                 3594  \\\n",
       "DateTime  2018-09-09 23:53:17  2018-05-02 20:53:58  2018-02-06 10:05:28   \n",
       "Gender                 female                 male                 male   \n",
       "Age                      < 25                25-49                 > 50   \n",
       "CoR                        IE                  EUP                UK/NI   \n",
       "SEC                     C2DEs                ABC1s                C2DEs   \n",
       "\n",
       "                         3595                 3596                 3597  \\\n",
       "DateTime  2018-08-15 03:11:52  2018-07-22 23:24:01  2018-05-17 16:08:03   \n",
       "Gender                   male                 male               female   \n",
       "Age                     25-49                25-49                 > 50   \n",
       "CoR                        IE                UK/NI                N-AMR   \n",
       "SEC                     ABC1s                C2DEs                ABC1s   \n",
       "\n",
       "                         3598                 3599  \n",
       "DateTime  2018-08-03 08:03:45  2018-06-27 04:36:51  \n",
       "Gender                   male               female  \n",
       "Age                      > 50                 < 25  \n",
       "CoR                     N-AMR                N-AMR  \n",
       "SEC                     C2DEs                C2DEs  \n",
       "\n",
       "[5 rows x 3600 columns]"
      ]
     },
     "execution_count": 19,
     "metadata": {},
     "output_type": "execute_result"
    }
   ],
   "source": [
    "df.transpose()"
   ]
  },
  {
   "cell_type": "code",
   "execution_count": 20,
   "metadata": {},
   "outputs": [
    {
     "data": {
      "text/html": [
       "<div>\n",
       "<style scoped>\n",
       "    .dataframe tbody tr th:only-of-type {\n",
       "        vertical-align: middle;\n",
       "    }\n",
       "\n",
       "    .dataframe tbody tr th {\n",
       "        vertical-align: top;\n",
       "    }\n",
       "\n",
       "    .dataframe thead th {\n",
       "        text-align: right;\n",
       "    }\n",
       "</style>\n",
       "<table border=\"1\" class=\"dataframe\">\n",
       "  <thead>\n",
       "    <tr style=\"text-align: right;\">\n",
       "      <th></th>\n",
       "      <th>DateTime</th>\n",
       "      <th>Gender</th>\n",
       "      <th>Age</th>\n",
       "      <th>CoR</th>\n",
       "      <th>SEC</th>\n",
       "    </tr>\n",
       "  </thead>\n",
       "  <tbody>\n",
       "    <tr>\n",
       "      <th>0</th>\n",
       "      <td>2018-02-28 18:28:34</td>\n",
       "      <td>male</td>\n",
       "      <td>&lt; 25</td>\n",
       "      <td>UK/NI</td>\n",
       "      <td>ABC1s</td>\n",
       "    </tr>\n",
       "    <tr>\n",
       "      <th>1</th>\n",
       "      <td>2018-10-05 08:44:33</td>\n",
       "      <td>male</td>\n",
       "      <td>&lt; 25</td>\n",
       "      <td>IE</td>\n",
       "      <td>ABC1s</td>\n",
       "    </tr>\n",
       "    <tr>\n",
       "      <th>2</th>\n",
       "      <td>2018-06-29 00:50:32</td>\n",
       "      <td>female</td>\n",
       "      <td>&gt; 50</td>\n",
       "      <td>EUP</td>\n",
       "      <td>ABC1s</td>\n",
       "    </tr>\n",
       "    <tr>\n",
       "      <th>3</th>\n",
       "      <td>2018-02-06 07:31:55</td>\n",
       "      <td>male</td>\n",
       "      <td>25-49</td>\n",
       "      <td>IE</td>\n",
       "      <td>Farmers</td>\n",
       "    </tr>\n",
       "    <tr>\n",
       "      <th>4</th>\n",
       "      <td>2018-04-16 00:09:59</td>\n",
       "      <td>male</td>\n",
       "      <td>25-49</td>\n",
       "      <td>IE</td>\n",
       "      <td>ABC1s</td>\n",
       "    </tr>\n",
       "  </tbody>\n",
       "</table>\n",
       "</div>"
      ],
      "text/plain": [
       "             DateTime  Gender    Age    CoR      SEC\n",
       "0 2018-02-28 18:28:34    male   < 25  UK/NI    ABC1s\n",
       "1 2018-10-05 08:44:33    male   < 25     IE    ABC1s\n",
       "2 2018-06-29 00:50:32  female   > 50    EUP    ABC1s\n",
       "3 2018-02-06 07:31:55    male  25-49     IE  Farmers\n",
       "4 2018-04-16 00:09:59    male  25-49     IE    ABC1s"
      ]
     },
     "execution_count": 20,
     "metadata": {},
     "output_type": "execute_result"
    }
   ],
   "source": [
    "df.head()"
   ]
  },
  {
   "cell_type": "code",
   "execution_count": 21,
   "metadata": {},
   "outputs": [
    {
     "data": {
      "text/html": [
       "<div>\n",
       "<style scoped>\n",
       "    .dataframe tbody tr th:only-of-type {\n",
       "        vertical-align: middle;\n",
       "    }\n",
       "\n",
       "    .dataframe tbody tr th {\n",
       "        vertical-align: top;\n",
       "    }\n",
       "\n",
       "    .dataframe thead th {\n",
       "        text-align: right;\n",
       "    }\n",
       "</style>\n",
       "<table border=\"1\" class=\"dataframe\">\n",
       "  <thead>\n",
       "    <tr style=\"text-align: right;\">\n",
       "      <th></th>\n",
       "      <th>DateTime</th>\n",
       "      <th>Gender</th>\n",
       "      <th>Age</th>\n",
       "      <th>CoR</th>\n",
       "      <th>SEC</th>\n",
       "    </tr>\n",
       "  </thead>\n",
       "  <tbody>\n",
       "    <tr>\n",
       "      <th>count</th>\n",
       "      <td>3600</td>\n",
       "      <td>3600</td>\n",
       "      <td>3600</td>\n",
       "      <td>3600</td>\n",
       "      <td>3600</td>\n",
       "    </tr>\n",
       "    <tr>\n",
       "      <th>unique</th>\n",
       "      <td>3600</td>\n",
       "      <td>2</td>\n",
       "      <td>3</td>\n",
       "      <td>5</td>\n",
       "      <td>3</td>\n",
       "    </tr>\n",
       "    <tr>\n",
       "      <th>top</th>\n",
       "      <td>2018-09-30 05:58:42</td>\n",
       "      <td>male</td>\n",
       "      <td>25-49</td>\n",
       "      <td>IE</td>\n",
       "      <td>ABC1s</td>\n",
       "    </tr>\n",
       "    <tr>\n",
       "      <th>freq</th>\n",
       "      <td>1</td>\n",
       "      <td>1847</td>\n",
       "      <td>1999</td>\n",
       "      <td>1710</td>\n",
       "      <td>2490</td>\n",
       "    </tr>\n",
       "    <tr>\n",
       "      <th>first</th>\n",
       "      <td>2018-01-01 04:21:25</td>\n",
       "      <td>NaN</td>\n",
       "      <td>NaN</td>\n",
       "      <td>NaN</td>\n",
       "      <td>NaN</td>\n",
       "    </tr>\n",
       "    <tr>\n",
       "      <th>last</th>\n",
       "      <td>2018-12-30 23:36:36</td>\n",
       "      <td>NaN</td>\n",
       "      <td>NaN</td>\n",
       "      <td>NaN</td>\n",
       "      <td>NaN</td>\n",
       "    </tr>\n",
       "  </tbody>\n",
       "</table>\n",
       "</div>"
      ],
      "text/plain": [
       "                   DateTime Gender    Age   CoR    SEC\n",
       "count                  3600   3600   3600  3600   3600\n",
       "unique                 3600      2      3     5      3\n",
       "top     2018-09-30 05:58:42   male  25-49    IE  ABC1s\n",
       "freq                      1   1847   1999  1710   2490\n",
       "first   2018-01-01 04:21:25    NaN    NaN   NaN    NaN\n",
       "last    2018-12-30 23:36:36    NaN    NaN   NaN    NaN"
      ]
     },
     "execution_count": 21,
     "metadata": {},
     "output_type": "execute_result"
    }
   ],
   "source": [
    "df.describe()"
   ]
  },
  {
   "cell_type": "code",
   "execution_count": 47,
   "metadata": {},
   "outputs": [
    {
     "data": {
      "text/html": [
       "<div>\n",
       "<style scoped>\n",
       "    .dataframe tbody tr th:only-of-type {\n",
       "        vertical-align: middle;\n",
       "    }\n",
       "\n",
       "    .dataframe tbody tr th {\n",
       "        vertical-align: top;\n",
       "    }\n",
       "\n",
       "    .dataframe thead th {\n",
       "        text-align: right;\n",
       "    }\n",
       "</style>\n",
       "<table border=\"1\" class=\"dataframe\">\n",
       "  <thead>\n",
       "    <tr style=\"text-align: right;\">\n",
       "      <th></th>\n",
       "      <th>DateTime</th>\n",
       "      <th>Gender</th>\n",
       "      <th>Age</th>\n",
       "      <th>CoR</th>\n",
       "      <th>SEC</th>\n",
       "    </tr>\n",
       "  </thead>\n",
       "  <tbody>\n",
       "    <tr>\n",
       "      <th>0</th>\n",
       "      <td>2018-02-28 18:28:34</td>\n",
       "      <td>male</td>\n",
       "      <td>&lt; 25</td>\n",
       "      <td>UK/NI</td>\n",
       "      <td>ABC1s</td>\n",
       "    </tr>\n",
       "    <tr>\n",
       "      <th>100</th>\n",
       "      <td>2018-08-07 15:45:44</td>\n",
       "      <td>male</td>\n",
       "      <td>25-49</td>\n",
       "      <td>IE</td>\n",
       "      <td>C2DEs</td>\n",
       "    </tr>\n",
       "    <tr>\n",
       "      <th>200</th>\n",
       "      <td>2018-03-03 01:02:17</td>\n",
       "      <td>male</td>\n",
       "      <td>25-49</td>\n",
       "      <td>EUP</td>\n",
       "      <td>ABC1s</td>\n",
       "    </tr>\n",
       "    <tr>\n",
       "      <th>300</th>\n",
       "      <td>2018-02-17 14:42:09</td>\n",
       "      <td>male</td>\n",
       "      <td>25-49</td>\n",
       "      <td>EUP</td>\n",
       "      <td>C2DEs</td>\n",
       "    </tr>\n",
       "    <tr>\n",
       "      <th>400</th>\n",
       "      <td>2018-12-29 23:21:36</td>\n",
       "      <td>female</td>\n",
       "      <td>&gt; 50</td>\n",
       "      <td>UK/NI</td>\n",
       "      <td>C2DEs</td>\n",
       "    </tr>\n",
       "    <tr>\n",
       "      <th>500</th>\n",
       "      <td>2018-08-22 21:17:04</td>\n",
       "      <td>female</td>\n",
       "      <td>&gt; 50</td>\n",
       "      <td>EUP</td>\n",
       "      <td>C2DEs</td>\n",
       "    </tr>\n",
       "    <tr>\n",
       "      <th>600</th>\n",
       "      <td>2018-05-12 15:40:00</td>\n",
       "      <td>female</td>\n",
       "      <td>&gt; 50</td>\n",
       "      <td>EUP</td>\n",
       "      <td>C2DEs</td>\n",
       "    </tr>\n",
       "    <tr>\n",
       "      <th>700</th>\n",
       "      <td>2018-09-12 03:31:56</td>\n",
       "      <td>male</td>\n",
       "      <td>25-49</td>\n",
       "      <td>IE</td>\n",
       "      <td>ABC1s</td>\n",
       "    </tr>\n",
       "    <tr>\n",
       "      <th>800</th>\n",
       "      <td>2018-09-21 08:58:44</td>\n",
       "      <td>male</td>\n",
       "      <td>&gt; 50</td>\n",
       "      <td>IE</td>\n",
       "      <td>C2DEs</td>\n",
       "    </tr>\n",
       "    <tr>\n",
       "      <th>900</th>\n",
       "      <td>2018-02-14 15:56:48</td>\n",
       "      <td>female</td>\n",
       "      <td>25-49</td>\n",
       "      <td>EUP</td>\n",
       "      <td>ABC1s</td>\n",
       "    </tr>\n",
       "    <tr>\n",
       "      <th>1000</th>\n",
       "      <td>2018-03-02 10:11:59</td>\n",
       "      <td>female</td>\n",
       "      <td>&gt; 50</td>\n",
       "      <td>UK/NI</td>\n",
       "      <td>ABC1s</td>\n",
       "    </tr>\n",
       "    <tr>\n",
       "      <th>1100</th>\n",
       "      <td>2018-08-10 05:20:25</td>\n",
       "      <td>male</td>\n",
       "      <td>25-49</td>\n",
       "      <td>UK/NI</td>\n",
       "      <td>C2DEs</td>\n",
       "    </tr>\n",
       "    <tr>\n",
       "      <th>1200</th>\n",
       "      <td>2018-12-04 17:25:56</td>\n",
       "      <td>male</td>\n",
       "      <td>25-49</td>\n",
       "      <td>IE</td>\n",
       "      <td>ABC1s</td>\n",
       "    </tr>\n",
       "    <tr>\n",
       "      <th>1300</th>\n",
       "      <td>2018-12-24 00:40:25</td>\n",
       "      <td>male</td>\n",
       "      <td>25-49</td>\n",
       "      <td>UK/NI</td>\n",
       "      <td>C2DEs</td>\n",
       "    </tr>\n",
       "    <tr>\n",
       "      <th>1400</th>\n",
       "      <td>2018-05-10 13:32:27</td>\n",
       "      <td>male</td>\n",
       "      <td>&gt; 50</td>\n",
       "      <td>UK/NI</td>\n",
       "      <td>ABC1s</td>\n",
       "    </tr>\n",
       "    <tr>\n",
       "      <th>1500</th>\n",
       "      <td>2018-06-26 08:29:58</td>\n",
       "      <td>male</td>\n",
       "      <td>&gt; 50</td>\n",
       "      <td>IE</td>\n",
       "      <td>ABC1s</td>\n",
       "    </tr>\n",
       "    <tr>\n",
       "      <th>1600</th>\n",
       "      <td>2018-11-11 12:51:53</td>\n",
       "      <td>male</td>\n",
       "      <td>25-49</td>\n",
       "      <td>IE</td>\n",
       "      <td>C2DEs</td>\n",
       "    </tr>\n",
       "    <tr>\n",
       "      <th>1700</th>\n",
       "      <td>2018-07-07 15:51:42</td>\n",
       "      <td>female</td>\n",
       "      <td>&gt; 50</td>\n",
       "      <td>EUP</td>\n",
       "      <td>C2DEs</td>\n",
       "    </tr>\n",
       "    <tr>\n",
       "      <th>1800</th>\n",
       "      <td>2018-12-02 05:52:39</td>\n",
       "      <td>female</td>\n",
       "      <td>25-49</td>\n",
       "      <td>UK/NI</td>\n",
       "      <td>C2DEs</td>\n",
       "    </tr>\n",
       "    <tr>\n",
       "      <th>1900</th>\n",
       "      <td>2018-07-25 14:08:52</td>\n",
       "      <td>male</td>\n",
       "      <td>25-49</td>\n",
       "      <td>IE</td>\n",
       "      <td>C2DEs</td>\n",
       "    </tr>\n",
       "    <tr>\n",
       "      <th>2000</th>\n",
       "      <td>2018-06-29 10:28:29</td>\n",
       "      <td>female</td>\n",
       "      <td>25-49</td>\n",
       "      <td>IE</td>\n",
       "      <td>ABC1s</td>\n",
       "    </tr>\n",
       "    <tr>\n",
       "      <th>2100</th>\n",
       "      <td>2018-02-22 14:06:27</td>\n",
       "      <td>female</td>\n",
       "      <td>&gt; 50</td>\n",
       "      <td>N-AMR</td>\n",
       "      <td>ABC1s</td>\n",
       "    </tr>\n",
       "    <tr>\n",
       "      <th>2200</th>\n",
       "      <td>2018-01-06 15:53:14</td>\n",
       "      <td>male</td>\n",
       "      <td>25-49</td>\n",
       "      <td>IE</td>\n",
       "      <td>C2DEs</td>\n",
       "    </tr>\n",
       "    <tr>\n",
       "      <th>2300</th>\n",
       "      <td>2018-02-16 06:56:39</td>\n",
       "      <td>male</td>\n",
       "      <td>25-49</td>\n",
       "      <td>IE</td>\n",
       "      <td>C2DEs</td>\n",
       "    </tr>\n",
       "    <tr>\n",
       "      <th>2400</th>\n",
       "      <td>2018-02-06 20:10:46</td>\n",
       "      <td>male</td>\n",
       "      <td>&gt; 50</td>\n",
       "      <td>IE</td>\n",
       "      <td>C2DEs</td>\n",
       "    </tr>\n",
       "    <tr>\n",
       "      <th>2500</th>\n",
       "      <td>2018-07-24 06:39:13</td>\n",
       "      <td>female</td>\n",
       "      <td>25-49</td>\n",
       "      <td>UK/NI</td>\n",
       "      <td>ABC1s</td>\n",
       "    </tr>\n",
       "    <tr>\n",
       "      <th>2600</th>\n",
       "      <td>2018-06-27 20:28:42</td>\n",
       "      <td>male</td>\n",
       "      <td>&lt; 25</td>\n",
       "      <td>UK/NI</td>\n",
       "      <td>ABC1s</td>\n",
       "    </tr>\n",
       "    <tr>\n",
       "      <th>2700</th>\n",
       "      <td>2018-07-01 23:46:54</td>\n",
       "      <td>male</td>\n",
       "      <td>25-49</td>\n",
       "      <td>UK/NI</td>\n",
       "      <td>C2DEs</td>\n",
       "    </tr>\n",
       "    <tr>\n",
       "      <th>2800</th>\n",
       "      <td>2018-01-17 08:10:44</td>\n",
       "      <td>male</td>\n",
       "      <td>&lt; 25</td>\n",
       "      <td>UK/NI</td>\n",
       "      <td>C2DEs</td>\n",
       "    </tr>\n",
       "    <tr>\n",
       "      <th>2900</th>\n",
       "      <td>2018-07-11 12:37:27</td>\n",
       "      <td>male</td>\n",
       "      <td>25-49</td>\n",
       "      <td>IE</td>\n",
       "      <td>ABC1s</td>\n",
       "    </tr>\n",
       "    <tr>\n",
       "      <th>3000</th>\n",
       "      <td>2018-02-16 03:08:33</td>\n",
       "      <td>male</td>\n",
       "      <td>25-49</td>\n",
       "      <td>UK/NI</td>\n",
       "      <td>ABC1s</td>\n",
       "    </tr>\n",
       "    <tr>\n",
       "      <th>3100</th>\n",
       "      <td>2018-11-08 22:37:34</td>\n",
       "      <td>male</td>\n",
       "      <td>&lt; 25</td>\n",
       "      <td>IE</td>\n",
       "      <td>C2DEs</td>\n",
       "    </tr>\n",
       "    <tr>\n",
       "      <th>3200</th>\n",
       "      <td>2018-03-13 15:42:08</td>\n",
       "      <td>female</td>\n",
       "      <td>&gt; 50</td>\n",
       "      <td>N-AMR</td>\n",
       "      <td>C2DEs</td>\n",
       "    </tr>\n",
       "    <tr>\n",
       "      <th>3300</th>\n",
       "      <td>2018-07-14 12:47:51</td>\n",
       "      <td>male</td>\n",
       "      <td>&gt; 50</td>\n",
       "      <td>IE</td>\n",
       "      <td>ABC1s</td>\n",
       "    </tr>\n",
       "    <tr>\n",
       "      <th>3400</th>\n",
       "      <td>2018-07-07 16:29:20</td>\n",
       "      <td>female</td>\n",
       "      <td>&lt; 25</td>\n",
       "      <td>EUP</td>\n",
       "      <td>ABC1s</td>\n",
       "    </tr>\n",
       "    <tr>\n",
       "      <th>3500</th>\n",
       "      <td>2018-03-03 17:28:30</td>\n",
       "      <td>male</td>\n",
       "      <td>25-49</td>\n",
       "      <td>IE</td>\n",
       "      <td>ABC1s</td>\n",
       "    </tr>\n",
       "  </tbody>\n",
       "</table>\n",
       "</div>"
      ],
      "text/plain": [
       "                DateTime  Gender    Age    CoR    SEC\n",
       "0    2018-02-28 18:28:34    male   < 25  UK/NI  ABC1s\n",
       "100  2018-08-07 15:45:44    male  25-49     IE  C2DEs\n",
       "200  2018-03-03 01:02:17    male  25-49    EUP  ABC1s\n",
       "300  2018-02-17 14:42:09    male  25-49    EUP  C2DEs\n",
       "400  2018-12-29 23:21:36  female   > 50  UK/NI  C2DEs\n",
       "500  2018-08-22 21:17:04  female   > 50    EUP  C2DEs\n",
       "600  2018-05-12 15:40:00  female   > 50    EUP  C2DEs\n",
       "700  2018-09-12 03:31:56    male  25-49     IE  ABC1s\n",
       "800  2018-09-21 08:58:44    male   > 50     IE  C2DEs\n",
       "900  2018-02-14 15:56:48  female  25-49    EUP  ABC1s\n",
       "1000 2018-03-02 10:11:59  female   > 50  UK/NI  ABC1s\n",
       "1100 2018-08-10 05:20:25    male  25-49  UK/NI  C2DEs\n",
       "1200 2018-12-04 17:25:56    male  25-49     IE  ABC1s\n",
       "1300 2018-12-24 00:40:25    male  25-49  UK/NI  C2DEs\n",
       "1400 2018-05-10 13:32:27    male   > 50  UK/NI  ABC1s\n",
       "1500 2018-06-26 08:29:58    male   > 50     IE  ABC1s\n",
       "1600 2018-11-11 12:51:53    male  25-49     IE  C2DEs\n",
       "1700 2018-07-07 15:51:42  female   > 50    EUP  C2DEs\n",
       "1800 2018-12-02 05:52:39  female  25-49  UK/NI  C2DEs\n",
       "1900 2018-07-25 14:08:52    male  25-49     IE  C2DEs\n",
       "2000 2018-06-29 10:28:29  female  25-49     IE  ABC1s\n",
       "2100 2018-02-22 14:06:27  female   > 50  N-AMR  ABC1s\n",
       "2200 2018-01-06 15:53:14    male  25-49     IE  C2DEs\n",
       "2300 2018-02-16 06:56:39    male  25-49     IE  C2DEs\n",
       "2400 2018-02-06 20:10:46    male   > 50     IE  C2DEs\n",
       "2500 2018-07-24 06:39:13  female  25-49  UK/NI  ABC1s\n",
       "2600 2018-06-27 20:28:42    male   < 25  UK/NI  ABC1s\n",
       "2700 2018-07-01 23:46:54    male  25-49  UK/NI  C2DEs\n",
       "2800 2018-01-17 08:10:44    male   < 25  UK/NI  C2DEs\n",
       "2900 2018-07-11 12:37:27    male  25-49     IE  ABC1s\n",
       "3000 2018-02-16 03:08:33    male  25-49  UK/NI  ABC1s\n",
       "3100 2018-11-08 22:37:34    male   < 25     IE  C2DEs\n",
       "3200 2018-03-13 15:42:08  female   > 50  N-AMR  C2DEs\n",
       "3300 2018-07-14 12:47:51    male   > 50     IE  ABC1s\n",
       "3400 2018-07-07 16:29:20  female   < 25    EUP  ABC1s\n",
       "3500 2018-03-03 17:28:30    male  25-49     IE  ABC1s"
      ]
     },
     "execution_count": 47,
     "metadata": {},
     "output_type": "execute_result"
    }
   ],
   "source": [
    "df[::100]"
   ]
  },
  {
   "cell_type": "markdown",
   "metadata": {},
   "source": [
    "## References:\n",
    "\n",
    "[1] Dublin Airport; Facts and Figures: https://www.dublinairport.com/corporate/about-us/facts-and-figures\n",
    "\n",
    "[2] Dublin Airport; Passenger Profile: https://www.dublinairport.com/corporate/about-us/passenger-profile\n",
    "\n",
    "[3] caktusgroup: https://www.caktusgroup.com/blog/2020/04/15/quick-guide-generating-fake-data-with-pandas/\n",
    "\n",
    "[4] stackoverflow: https://stackoverflow.com/questions/50559078/generating-random-dates-within-a-given-range-in-pandas\n",
    "\n",
    "https://www.hbs.edu/faculty/Publication%20Files/19-040_89360426-c7a9-4aac-95e1-a3a3db276dc8.pdf\n"
   ]
  },
  {
   "cell_type": "markdown",
   "metadata": {},
   "source": [
    "## End"
   ]
  }
 ],
 "metadata": {
  "kernelspec": {
   "display_name": "Python 3",
   "language": "python",
   "name": "python3"
  },
  "language_info": {
   "codemirror_mode": {
    "name": "ipython",
    "version": 3
   },
   "file_extension": ".py",
   "mimetype": "text/x-python",
   "name": "python",
   "nbconvert_exporter": "python",
   "pygments_lexer": "ipython3",
   "version": "3.8.3"
  }
 },
 "nbformat": 4,
 "nbformat_minor": 4
}
